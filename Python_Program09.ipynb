{
  "nbformat": 4,
  "nbformat_minor": 0,
  "metadata": {
    "colab": {
      "name": "Python_Program09.ipynb",
      "provenance": [],
      "authorship_tag": "ABX9TyPNU1NwjTf1RVCm53NV3lqY",
      "include_colab_link": true
    },
    "kernelspec": {
      "name": "python3",
      "display_name": "Python 3"
    },
    "language_info": {
      "name": "python"
    }
  },
  "cells": [
    {
      "cell_type": "markdown",
      "metadata": {
        "id": "view-in-github",
        "colab_type": "text"
      },
      "source": [
        "<a href=\"https://colab.research.google.com/github/Ragavendhra-Ramanan/Python_Programs/blob/main/Python_Program09.ipynb\" target=\"_parent\"><img src=\"https://colab.research.google.com/assets/colab-badge.svg\" alt=\"Open In Colab\"/></a>"
      ]
    },
    {
      "cell_type": "markdown",
      "source": [
        "01.Write a Python program to check if the given number is a Disarium Number?"
      ],
      "metadata": {
        "id": "vtisPszTmZmh"
      }
    },
    {
      "cell_type": "code",
      "source": [
        "def get_length(num):\n",
        "  \"\"\"\n",
        "  This function counts number \n",
        "  of digits in the number\n",
        "  \"\"\"\n",
        "  a=0\n",
        "  while(num>0):\n",
        "    a+=1\n",
        "    num=num//10\n",
        "  return a"
      ],
      "metadata": {
        "id": "mLr4UMm0nbZl"
      },
      "execution_count": 7,
      "outputs": []
    },
    {
      "cell_type": "code",
      "execution_count": 30,
      "metadata": {
        "id": "Tf2F4pzBmYD6"
      },
      "outputs": [],
      "source": [
        "def disarium(num,flag):\n",
        "  \"\"\"\n",
        "  This checks whether a number is disarium \n",
        "  or not \n",
        "  \"\"\"\n",
        "  tem=num\n",
        "  total=0\n",
        "  length=get_length(num)\n",
        "  for i in range(length,0,-1):\n",
        "    total+=(num%10)**i\n",
        "    num=num//10\n",
        "  if flag ==True :\n",
        "    if tem==total:\n",
        "      print(\"{} is a disarium number\".format(tem))\n",
        "    else:\n",
        "      print(\"{} is not a disarium number\".format(tem))\n",
        "  else:\n",
        "    if tem==total:\n",
        "      return 1\n",
        "    else:\n",
        "      return 0 \n",
        "\n",
        "\n"
      ]
    },
    {
      "cell_type": "code",
      "source": [
        "disarium(13,True)"
      ],
      "metadata": {
        "colab": {
          "base_uri": "https://localhost:8080/"
        },
        "id": "K49igQDcn8Un",
        "outputId": "fed9ada6-486f-46cf-b9a4-3e353e742930"
      },
      "execution_count": 31,
      "outputs": [
        {
          "output_type": "stream",
          "name": "stdout",
          "text": [
            "13 is not a disarium number\n"
          ]
        }
      ]
    },
    {
      "cell_type": "code",
      "source": [
        "disarium(175,True)"
      ],
      "metadata": {
        "colab": {
          "base_uri": "https://localhost:8080/"
        },
        "id": "1SJWsGTWn_sB",
        "outputId": "51610295-b235-4670-d4c4-1c9b883c5d67"
      },
      "execution_count": 32,
      "outputs": [
        {
          "output_type": "stream",
          "name": "stdout",
          "text": [
            "175 is a disarium number\n"
          ]
        }
      ]
    },
    {
      "cell_type": "markdown",
      "source": [
        "02.Write a Python program to print all disarium numbers between 1 to 100?"
      ],
      "metadata": {
        "id": "ndED2faspCfN"
      }
    },
    {
      "cell_type": "code",
      "source": [
        "def print_dis(a,b):\n",
        "  \"\"\"\n",
        "  This function prints \n",
        "  all disarium numbers in range a,b\n",
        "  \"\"\"\n",
        "  for i in range(a,b+1):\n",
        "    if disarium(i,False)==1:\n",
        "      print(i)\n",
        "    "
      ],
      "metadata": {
        "id": "rBQh4I8Fo_dk"
      },
      "execution_count": 33,
      "outputs": []
    },
    {
      "cell_type": "code",
      "source": [
        "print_dis(1,100)"
      ],
      "metadata": {
        "colab": {
          "base_uri": "https://localhost:8080/"
        },
        "id": "fSVDDPoqpRyX",
        "outputId": "fd56a154-ce88-45d0-8d0d-73c1e499342d"
      },
      "execution_count": 36,
      "outputs": [
        {
          "output_type": "stream",
          "name": "stdout",
          "text": [
            "1\n",
            "2\n",
            "3\n",
            "4\n",
            "5\n",
            "6\n",
            "7\n",
            "8\n",
            "9\n",
            "89\n"
          ]
        }
      ]
    },
    {
      "cell_type": "markdown",
      "source": [
        "03.Write a Python program to check if the given number is Happy Number?"
      ],
      "metadata": {
        "id": "fnA6JsYvpsgt"
      }
    },
    {
      "cell_type": "code",
      "source": [
        "def sq_sum(num):\n",
        "  \"\"\"\n",
        "  This function computes sum of squares of a number\n",
        "  \"\"\"\n",
        "  total=0\n",
        "  while num>0:\n",
        "    total+=(num%10)**2\n",
        "    num=num//10\n",
        "  return total"
      ],
      "metadata": {
        "id": "xRlQwkNtz8au"
      },
      "execution_count": 40,
      "outputs": []
    },
    {
      "cell_type": "code",
      "source": [
        "def is_happy(num,flag):\n",
        "  \"\"\"\n",
        "  This function checks if a number \n",
        "  is happy number or not\n",
        "  \"\"\"\n",
        "  tem=num\n",
        "  while(num>9):\n",
        "    num=sq_sum(num)\n",
        "  \n",
        "  if flag:\n",
        "    if num==1:\n",
        "      print(\"{} is a happy number\".format(tem))\n",
        "    else:\n",
        "      print(\"{} is not a happy number\".format(tem))\n",
        "  else:\n",
        "    if num==1:\n",
        "      return 1\n",
        "    else:\n",
        "      return 0 "
      ],
      "metadata": {
        "id": "cU20U22lpwMo"
      },
      "execution_count": 44,
      "outputs": []
    },
    {
      "cell_type": "code",
      "source": [
        "is_happy(94,True)"
      ],
      "metadata": {
        "colab": {
          "base_uri": "https://localhost:8080/"
        },
        "id": "6H8r-kc_0rnW",
        "outputId": "ca33c815-c7d0-47a1-ab94-04002e40683a"
      },
      "execution_count": 45,
      "outputs": [
        {
          "output_type": "stream",
          "name": "stdout",
          "text": [
            "94 is a happy number\n"
          ]
        }
      ]
    },
    {
      "cell_type": "code",
      "source": [
        "is_happy(134,True)"
      ],
      "metadata": {
        "colab": {
          "base_uri": "https://localhost:8080/"
        },
        "id": "zAXZR3PM0wqq",
        "outputId": "5d93f462-e468-4582-9871-0e909a0ec200"
      },
      "execution_count": 46,
      "outputs": [
        {
          "output_type": "stream",
          "name": "stdout",
          "text": [
            "134 is not a happy number\n"
          ]
        }
      ]
    },
    {
      "cell_type": "markdown",
      "source": [
        "04.Write a Python program to print all happy numbers between 1 and 100?"
      ],
      "metadata": {
        "id": "mVRbAkW_0_Y1"
      }
    },
    {
      "cell_type": "code",
      "source": [
        "def print_happy(a,b):\n",
        "  \"\"\"\n",
        "  This function prints \n",
        "  all happy numbers in range a,b\n",
        "  \"\"\"\n",
        "  for i in range(a,b+1):\n",
        "    if is_happy(i,False)==1:\n",
        "      print(i)\n",
        "    "
      ],
      "metadata": {
        "id": "RMg0qegi08lW"
      },
      "execution_count": 47,
      "outputs": []
    },
    {
      "cell_type": "code",
      "source": [
        "print_happy(1,100)"
      ],
      "metadata": {
        "colab": {
          "base_uri": "https://localhost:8080/"
        },
        "id": "qCV0M6L61JLA",
        "outputId": "cc1c74fe-a906-4bca-d315-7993a78bc369"
      },
      "execution_count": 48,
      "outputs": [
        {
          "output_type": "stream",
          "name": "stdout",
          "text": [
            "1\n",
            "10\n",
            "13\n",
            "19\n",
            "23\n",
            "28\n",
            "31\n",
            "32\n",
            "44\n",
            "49\n",
            "68\n",
            "70\n",
            "79\n",
            "82\n",
            "86\n",
            "91\n",
            "94\n",
            "97\n",
            "100\n"
          ]
        }
      ]
    },
    {
      "cell_type": "markdown",
      "source": [
        "05.Write a Python program to determine whether the given number is a Harshad Number?"
      ],
      "metadata": {
        "id": "XL3FhNDP1OuO"
      }
    },
    {
      "cell_type": "code",
      "source": [
        "def is_harshad(num):\n",
        "  \"\"\"\n",
        "  This function checks if a number is\n",
        "  harshad number or not\n",
        "  \"\"\"\n",
        "  tem=num\n",
        "  total=0\n",
        "  while num:\n",
        "    total+=num%10\n",
        "    num=num//10\n",
        "  \n",
        "  if (tem%total==0):\n",
        "      print(\"{} is a harshad number\".format(tem))\n",
        "  else:\n",
        "      print(\"{} is not a harshad number\".format(tem))\n"
      ],
      "metadata": {
        "id": "Z88lKwRc1Kyr"
      },
      "execution_count": 51,
      "outputs": []
    },
    {
      "cell_type": "code",
      "source": [
        "is_harshad(156)"
      ],
      "metadata": {
        "colab": {
          "base_uri": "https://localhost:8080/"
        },
        "id": "Obb9YQyr1_J-",
        "outputId": "a02f3109-6fe7-432f-86d5-6e14dd5ea934"
      },
      "execution_count": 52,
      "outputs": [
        {
          "output_type": "stream",
          "name": "stdout",
          "text": [
            "156 is a harshad number\n"
          ]
        }
      ]
    },
    {
      "cell_type": "code",
      "source": [
        "is_harshad(121)"
      ],
      "metadata": {
        "colab": {
          "base_uri": "https://localhost:8080/"
        },
        "id": "6nTeJAP52GX_",
        "outputId": "2c9b91f5-999b-4b83-e608-b231ab7341e3"
      },
      "execution_count": 53,
      "outputs": [
        {
          "output_type": "stream",
          "name": "stdout",
          "text": [
            "121 is not a harshad number\n"
          ]
        }
      ]
    },
    {
      "cell_type": "markdown",
      "source": [
        "06.Write a Python program to print all pronic numbers between 1 and 100?"
      ],
      "metadata": {
        "id": "F3_SZk132LKc"
      }
    },
    {
      "cell_type": "code",
      "source": [
        "def prionic():\n",
        "  \"\"\"\n",
        "  This function prints \n",
        "  prionic numbers between 1 and 100\n",
        "  \"\"\"\n",
        "  a=0\n",
        "  b=1\n",
        "  c=0\n",
        "  while c<=100:\n",
        "    c=a*b\n",
        "    if c>100:\n",
        "      break\n",
        "    print(c)\n",
        "    a+=1\n",
        "    b+=1"
      ],
      "metadata": {
        "id": "8-AP8VlE2J6I"
      },
      "execution_count": 64,
      "outputs": []
    },
    {
      "cell_type": "code",
      "source": [
        "prionic()"
      ],
      "metadata": {
        "colab": {
          "base_uri": "https://localhost:8080/"
        },
        "id": "x4dpDsTC2alQ",
        "outputId": "c26f6826-23db-4761-9ef3-0a8f506867b3"
      },
      "execution_count": 65,
      "outputs": [
        {
          "output_type": "stream",
          "name": "stdout",
          "text": [
            "0\n",
            "2\n",
            "6\n",
            "12\n",
            "20\n",
            "30\n",
            "42\n",
            "56\n",
            "72\n",
            "90\n"
          ]
        }
      ]
    }
  ]
}