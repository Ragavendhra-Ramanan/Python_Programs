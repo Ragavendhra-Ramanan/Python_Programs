{
  "nbformat": 4,
  "nbformat_minor": 0,
  "metadata": {
    "colab": {
      "name": "Python_Program11.ipynb",
      "provenance": [],
      "authorship_tag": "ABX9TyMipWFdJTwfQjFg33fYqilX",
      "include_colab_link": true
    },
    "kernelspec": {
      "name": "python3",
      "display_name": "Python 3"
    },
    "language_info": {
      "name": "python"
    }
  },
  "cells": [
    {
      "cell_type": "markdown",
      "metadata": {
        "id": "view-in-github",
        "colab_type": "text"
      },
      "source": [
        "<a href=\"https://colab.research.google.com/github/Ragavendhra-Ramanan/Python_Programs/blob/main/Python_Program11.ipynb\" target=\"_parent\"><img src=\"https://colab.research.google.com/assets/colab-badge.svg\" alt=\"Open In Colab\"/></a>"
      ]
    },
    {
      "cell_type": "markdown",
      "source": [
        "01.Write a Python program to find words which are greater than given length k?"
      ],
      "metadata": {
        "id": "Lmorh-x2DpB5"
      }
    },
    {
      "cell_type": "code",
      "execution_count": 1,
      "metadata": {
        "id": "JNrtH7MnDj4p"
      },
      "outputs": [],
      "source": [
        "def words_len(k):\n",
        "  \"\"\"\n",
        "  This function prints words greater than length\n",
        "  k\n",
        "  \"\"\"\n",
        "  a=input(\"Enter the words \")\n",
        "  a=a.split()\n",
        "  return [i for i in a if len(i)>k]"
      ]
    },
    {
      "cell_type": "code",
      "source": [
        "words_len(5)"
      ],
      "metadata": {
        "colab": {
          "base_uri": "https://localhost:8080/"
        },
        "id": "_zfzsigVInT3",
        "outputId": "3e065ad1-2f5c-48f8-881c-a3a573b92f3f"
      },
      "execution_count": 2,
      "outputs": [
        {
          "name": "stdout",
          "output_type": "stream",
          "text": [
            "Enter the words I am playing cricket now\n"
          ]
        },
        {
          "output_type": "execute_result",
          "data": {
            "text/plain": [
              "['playing', 'cricket']"
            ]
          },
          "metadata": {},
          "execution_count": 2
        }
      ]
    },
    {
      "cell_type": "markdown",
      "source": [
        "02.Write a Python program for removing i-th character from a string?"
      ],
      "metadata": {
        "id": "sZH4ot0NIyLe"
      }
    },
    {
      "cell_type": "code",
      "source": [
        "def remove_char():\n",
        "  \"\"\"\n",
        "  This function removes\n",
        "  ith character from string\n",
        "  \"\"\"\n",
        "  a=input(\"Enter the words \")\n",
        "  i=int(input(\"Enter the index \"))\n",
        "  return a[:i]+a[i+1:]\n"
      ],
      "metadata": {
        "id": "g-mbYvU0IqSG"
      },
      "execution_count": 10,
      "outputs": []
    },
    {
      "cell_type": "code",
      "source": [
        "remove_char()"
      ],
      "metadata": {
        "colab": {
          "base_uri": "https://localhost:8080/",
          "height": 70
        },
        "id": "Lf99mp5YJjIs",
        "outputId": "91658826-57b4-4cc3-8322-a3972ab53f2d"
      },
      "execution_count": 11,
      "outputs": [
        {
          "name": "stdout",
          "output_type": "stream",
          "text": [
            "Enter the words Ramanan\n",
            "Enter the index 3\n"
          ]
        },
        {
          "output_type": "execute_result",
          "data": {
            "text/plain": [
              "'Ramnan'"
            ],
            "application/vnd.google.colaboratory.intrinsic+json": {
              "type": "string"
            }
          },
          "metadata": {},
          "execution_count": 11
        }
      ]
    },
    {
      "cell_type": "markdown",
      "source": [
        "03.Write a Python program to split and join a string?"
      ],
      "metadata": {
        "id": "Xzvtw47OKZF1"
      }
    },
    {
      "cell_type": "code",
      "source": [
        "a=input(\"Enter the string \")\n",
        "b=a.split()\n",
        "print(\"After splitting\")\n",
        "print(b)\n",
        "print(\"After joining\")\n",
        "print(\" \".join(b))"
      ],
      "metadata": {
        "colab": {
          "base_uri": "https://localhost:8080/"
        },
        "id": "4zMMmtCxJmlF",
        "outputId": "a4b68a3f-ab53-4c48-aee8-9dc154155128"
      },
      "execution_count": 14,
      "outputs": [
        {
          "output_type": "stream",
          "name": "stdout",
          "text": [
            "Enter the string Ragavendhra Ramanan IT CEG \n",
            "After splitting\n",
            "['Ragavendhra', 'Ramanan', 'IT', 'CEG']\n",
            "After joining\n",
            "Ragavendhra Ramanan IT CEG\n"
          ]
        }
      ]
    },
    {
      "cell_type": "markdown",
      "source": [
        "04.Write a Python to check if a given string is binary string or not?"
      ],
      "metadata": {
        "id": "Gq6b4MMgKxtv"
      }
    },
    {
      "cell_type": "code",
      "source": [
        "def binary(string):\n",
        "  \"\"\"\n",
        "  This function checks if a given string is binary or not\n",
        "  \"\"\"\n",
        "  count=0\n",
        "  for i in string:\n",
        "    if i==\"0\" or i==\"1\":\n",
        "      continue\n",
        "    else:\n",
        "      count+=1\n",
        "      break\n",
        "\n",
        "  if count:\n",
        "    print(\"The given string is not a binary string\")\n",
        "  else:\n",
        "    print(\"The given string is  a binary string\")"
      ],
      "metadata": {
        "id": "zIU9lQSDKhRl"
      },
      "execution_count": 16,
      "outputs": []
    },
    {
      "cell_type": "code",
      "source": [
        "binary(\"10011\")"
      ],
      "metadata": {
        "colab": {
          "base_uri": "https://localhost:8080/"
        },
        "id": "ONzB5dMcLgkE",
        "outputId": "82059541-2cea-4705-a2fb-c270695018d8"
      },
      "execution_count": 18,
      "outputs": [
        {
          "output_type": "stream",
          "name": "stdout",
          "text": [
            "The given string is  a binary string\n"
          ]
        }
      ]
    },
    {
      "cell_type": "code",
      "source": [
        "binary(\"10211\")"
      ],
      "metadata": {
        "colab": {
          "base_uri": "https://localhost:8080/"
        },
        "id": "1MmEQ8yuLiWQ",
        "outputId": "5e4905f3-924f-442f-b36f-f7f089b96889"
      },
      "execution_count": 19,
      "outputs": [
        {
          "output_type": "stream",
          "name": "stdout",
          "text": [
            "The given string is not a binary string\n"
          ]
        }
      ]
    },
    {
      "cell_type": "markdown",
      "source": [
        "05.Write a Python program to find uncommon words from two Strings?"
      ],
      "metadata": {
        "id": "0jkVqNgpLnK0"
      }
    },
    {
      "cell_type": "code",
      "source": [
        "def uncommon():\n",
        "  \"\"\"\n",
        "  This function prints\n",
        "  uncommon words in two strings\n",
        "  \"\"\"\n",
        "  a=input(\"Enter string 1 \")\n",
        "  b=input(\"Enter string 2 \")\n",
        "  a=a.lower()\n",
        "  b=b.lower()\n",
        "  a=set(a.split())\n",
        "  b=set(b.split())\n",
        "  print(\"Uncommon words are\")\n",
        "  return a.symmetric_difference(b)"
      ],
      "metadata": {
        "id": "HLHY0m4dLlsY"
      },
      "execution_count": 27,
      "outputs": []
    },
    {
      "cell_type": "code",
      "source": [
        "uncommon()"
      ],
      "metadata": {
        "colab": {
          "base_uri": "https://localhost:8080/"
        },
        "id": "3O79bi1uL8-R",
        "outputId": "fcc2a876-01e9-4a46-be8c-3dd284737423"
      },
      "execution_count": 28,
      "outputs": [
        {
          "output_type": "stream",
          "name": "stdout",
          "text": [
            "Enter string 1 Today i went to the gym\n",
            "Enter string 2 The Gym was closed today\n",
            "Uncommon words are\n"
          ]
        },
        {
          "output_type": "execute_result",
          "data": {
            "text/plain": [
              "{'closed', 'i', 'to', 'was', 'went'}"
            ]
          },
          "metadata": {},
          "execution_count": 28
        }
      ]
    },
    {
      "cell_type": "markdown",
      "source": [
        "06.Write a Python to find all duplicate characters in string?"
      ],
      "metadata": {
        "id": "xxRGRLHnMv4g"
      }
    },
    {
      "cell_type": "code",
      "source": [
        "def duplicate(a):\n",
        "  \"\"\"\n",
        "  This function prints all the\n",
        "  duplicate characters\n",
        "  \"\"\"\n",
        "  b=[]\n",
        "  i=0\n",
        "  a=a.lower()\n",
        "  while len(a)>0:\n",
        "    t=a.count(a[i])\n",
        "    if t>1:\n",
        "      b.append(a[i])\n",
        "    a=a.replace(a[i],\"\")\n",
        "  return b\n"
      ],
      "metadata": {
        "id": "jJg9D5JnME-X"
      },
      "execution_count": 35,
      "outputs": []
    },
    {
      "cell_type": "code",
      "source": [
        "duplicate(\"Ramanan\")"
      ],
      "metadata": {
        "colab": {
          "base_uri": "https://localhost:8080/"
        },
        "id": "UiBy2symNgOb",
        "outputId": "46a8f3f8-254c-482b-d6a2-cd665a8a1b74"
      },
      "execution_count": 36,
      "outputs": [
        {
          "output_type": "execute_result",
          "data": {
            "text/plain": [
              "['a', 'n']"
            ]
          },
          "metadata": {},
          "execution_count": 36
        }
      ]
    },
    {
      "cell_type": "code",
      "source": [
        "duplicate(\"Ragavendhra\")"
      ],
      "metadata": {
        "colab": {
          "base_uri": "https://localhost:8080/"
        },
        "id": "iQW2aQyYNh8P",
        "outputId": "d66b0c53-ab32-428c-9bd0-2d1dae83cfa8"
      },
      "execution_count": 37,
      "outputs": [
        {
          "output_type": "execute_result",
          "data": {
            "text/plain": [
              "['r', 'a']"
            ]
          },
          "metadata": {},
          "execution_count": 37
        }
      ]
    },
    {
      "cell_type": "markdown",
      "source": [
        "07.Write a Python Program to check if a string contains any special character?\n"
      ],
      "metadata": {
        "id": "oNNLcwo0Nrp8"
      }
    },
    {
      "cell_type": "code",
      "source": [
        "import re\n",
        "string=input(\"Enter the string \")\n",
        "pattern=re.compile('[@_!#$%^&*()<>?/\\|}{~:]')\n",
        "if pattern.search(string)==None:\n",
        "  print(\"String not has special characters\")\n",
        "else:\n",
        "  print(\"String  has special characters\")"
      ],
      "metadata": {
        "colab": {
          "base_uri": "https://localhost:8080/"
        },
        "id": "boddKwJ2Np0t",
        "outputId": "0324fa96-d894-4281-c388-5959c34ddacf"
      },
      "execution_count": 39,
      "outputs": [
        {
          "output_type": "stream",
          "name": "stdout",
          "text": [
            "Enter the string Ragavendhra@123\n",
            "String  has special characters\n"
          ]
        }
      ]
    }
  ]
}