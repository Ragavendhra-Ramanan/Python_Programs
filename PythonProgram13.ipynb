{
  "nbformat": 4,
  "nbformat_minor": 0,
  "metadata": {
    "colab": {
      "name": "PythonProgram13.ipynb",
      "provenance": [],
      "authorship_tag": "ABX9TyM5dl0z8ndcgZ/4PPl0137J",
      "include_colab_link": true
    },
    "kernelspec": {
      "name": "python3",
      "display_name": "Python 3"
    },
    "language_info": {
      "name": "python"
    }
  },
  "cells": [
    {
      "cell_type": "markdown",
      "metadata": {
        "id": "view-in-github",
        "colab_type": "text"
      },
      "source": [
        "<a href=\"https://colab.research.google.com/github/Ragavendhra-Ramanan/Python_Programs/blob/main/PythonProgram13.ipynb\" target=\"_parent\"><img src=\"https://colab.research.google.com/assets/colab-badge.svg\" alt=\"Open In Colab\"/></a>"
      ]
    },
    {
      "cell_type": "markdown",
      "source": [
        "01.Write a program that calculates and prints the value according to the given formula:\n",
        "Q = Square root of [(2 * C * D)/H]\n",
        "Following are the fixed values of C and H:\n",
        "C is 50. H is 30.\n",
        "D is the variable whose values should be input to your program in a comma-separated\n",
        "sequence.\n",
        "Example\n",
        "Let us assume the following comma separated input sequence is given to the program:\n",
        "100,150,180\n",
        "The output of the program should be:\n",
        "18,22,24"
      ],
      "metadata": {
        "id": "_O5D7I0TF4LQ"
      }
    },
    {
      "cell_type": "code",
      "execution_count": 1,
      "metadata": {
        "id": "my8oRIb8Fwb5"
      },
      "outputs": [],
      "source": [
        "def  square_root():\n",
        "  \"\"\"\n",
        "  calculate Q = Square root of [(2 * C * D)/H] \n",
        "  \"\"\"\n",
        "  import math\n",
        "  from math import sqrt\n",
        "  a=input(\"Enter Comma seperated values \")\n",
        "  b=a.split(\",\")\n",
        "  h=30\n",
        "  c=50\n",
        "  ans=[]\n",
        "  for d in b:\n",
        "    ans.append(str(int((sqrt((2*c*int(d))/h)))))\n",
        "  return \",\".join(ans)"
      ]
    },
    {
      "cell_type": "code",
      "source": [
        "square_root()"
      ],
      "metadata": {
        "colab": {
          "base_uri": "https://localhost:8080/",
          "height": 53
        },
        "id": "awofnkD3G9Qj",
        "outputId": "6a91a1c7-6125-4362-8e18-e292cae9ffca"
      },
      "execution_count": 16,
      "outputs": [
        {
          "name": "stdout",
          "output_type": "stream",
          "text": [
            "Enter Comma seperated values 100,150,180\n"
          ]
        },
        {
          "output_type": "execute_result",
          "data": {
            "text/plain": [
              "'18,22,24'"
            ],
            "application/vnd.google.colaboratory.intrinsic+json": {
              "type": "string"
            }
          },
          "metadata": {},
          "execution_count": 16
        }
      ]
    },
    {
      "cell_type": "markdown",
      "source": [
        "02.Question 2:\n",
        "Write a program which takes 2 digits, X,Y as input and generates a 2-dimensional array. The\n",
        "element value in the i-th row and j-th column of the array should be i*j.\n",
        "Note: i=0,1.., X-1; j=0,1,¡Y-1.\n",
        "Example\n",
        "Suppose the following inputs are given to the program:\n",
        "3,5\n",
        "Then, the output of the program should be:\n",
        "[[0, 0, 0, 0, 0], [0, 1, 2, 3, 4], [0, 2, 4, 6, 8]]"
      ],
      "metadata": {
        "id": "_7D4tRxUIUWJ"
      }
    },
    {
      "cell_type": "code",
      "source": [
        "def arrays():\n",
        "  \"\"\"\n",
        "  input:X,Y\n",
        "  output: 2-d array\n",
        "  \"\"\"\n",
        "  a=int(input(\"Enter the number of rows \"))\n",
        "  b=int(input(\"Enter the number of columns \"))\n",
        "  ans=[]\n",
        "  for i in range(a):\n",
        "    c=[]\n",
        "    for j in range(b):\n",
        "      c.append(i*j)\n",
        "    ans.append(c)\n",
        "  return ans\n"
      ],
      "metadata": {
        "id": "mz02SH6vHIOm"
      },
      "execution_count": 22,
      "outputs": []
    },
    {
      "cell_type": "code",
      "source": [
        "arrays()"
      ],
      "metadata": {
        "colab": {
          "base_uri": "https://localhost:8080/"
        },
        "id": "f2mk1emJJMrm",
        "outputId": "c0f1f8fe-f188-4425-8043-385480452a6d"
      },
      "execution_count": 23,
      "outputs": [
        {
          "name": "stdout",
          "output_type": "stream",
          "text": [
            "Enter the number of rows 3\n",
            "Enter the number of columns 5\n"
          ]
        },
        {
          "output_type": "execute_result",
          "data": {
            "text/plain": [
              "[[0, 0, 0, 0, 0], [0, 1, 2, 3, 4], [0, 2, 4, 6, 8]]"
            ]
          },
          "metadata": {},
          "execution_count": 23
        }
      ]
    },
    {
      "cell_type": "markdown",
      "source": [
        "03.Question 3:\n",
        "Write a program that accepts a comma separated sequence of words as input and prints the\n",
        "words in a comma-separated sequence after sorting them alphabetically.\n",
        "Suppose the following input is supplied to the program:\n",
        "without,hello,bag,world\n",
        "Then, the output should be:\n",
        "bag,hello,without,world"
      ],
      "metadata": {
        "id": "cqL_ZGvWJaZS"
      }
    },
    {
      "cell_type": "code",
      "source": [
        "def word_sort():\n",
        "  \"\"\"\n",
        "  Sort Comma separted values\n",
        "  \"\"\"\n",
        "  a=input(\"Enter comma separated values \")\n",
        "  b=a.split(\",\")\n",
        "  b.sort()\n",
        "  return \",\".join(b)"
      ],
      "metadata": {
        "id": "04fZgRagJNki"
      },
      "execution_count": 24,
      "outputs": []
    },
    {
      "cell_type": "code",
      "source": [
        "word_sort()"
      ],
      "metadata": {
        "colab": {
          "base_uri": "https://localhost:8080/",
          "height": 53
        },
        "id": "yVghy7-NM8VR",
        "outputId": "fa64bce3-17f1-4251-f221-e86c815a0379"
      },
      "execution_count": 25,
      "outputs": [
        {
          "name": "stdout",
          "output_type": "stream",
          "text": [
            "Enter comma separated values without,hello,bag,world\n"
          ]
        },
        {
          "output_type": "execute_result",
          "data": {
            "text/plain": [
              "'bag,hello,without,world'"
            ],
            "application/vnd.google.colaboratory.intrinsic+json": {
              "type": "string"
            }
          },
          "metadata": {},
          "execution_count": 25
        }
      ]
    },
    {
      "cell_type": "markdown",
      "source": [
        "Question 4:\n",
        "Write a program that accepts a sequence of whitespace separated words as input and prints\n",
        "the words after removing all duplicate words and sorting them alphanumerically.\n",
        "Suppose the following input is supplied to the program:\n",
        "hello world and practice makes perfect and hello world again\n",
        "Then, the output should be:\n",
        "again and hello makes perfect practice world"
      ],
      "metadata": {
        "id": "GF8tAAkINH59"
      }
    },
    {
      "cell_type": "code",
      "source": [
        "def remove_s():\n",
        "  \"\"\"\n",
        "  Remove whitespace\n",
        "  and print without duplicate words\n",
        "  \"\"\"\n",
        "  a=input(\"Enter space separated values \")\n",
        "  b=a.split(\" \")\n",
        "  c=list(set(b))\n",
        "  c.sort()\n",
        "  return \" \".join(c)"
      ],
      "metadata": {
        "id": "DomHW2BbNBnZ"
      },
      "execution_count": 29,
      "outputs": []
    },
    {
      "cell_type": "code",
      "source": [
        "remove_s()"
      ],
      "metadata": {
        "colab": {
          "base_uri": "https://localhost:8080/",
          "height": 53
        },
        "id": "1lxCBG_qNpFn",
        "outputId": "7eb1dc9c-c496-480b-dfea-45bd193dbecf"
      },
      "execution_count": 30,
      "outputs": [
        {
          "name": "stdout",
          "output_type": "stream",
          "text": [
            "Enter space separated values hello world and practice makes perfect and hello world again\n"
          ]
        },
        {
          "output_type": "execute_result",
          "data": {
            "text/plain": [
              "'again and hello makes perfect practice world'"
            ],
            "application/vnd.google.colaboratory.intrinsic+json": {
              "type": "string"
            }
          },
          "metadata": {},
          "execution_count": 30
        }
      ]
    },
    {
      "cell_type": "markdown",
      "source": [
        "Question 5:\n",
        "Write a program that accepts a sentence and calculate the number of letters and digits.\n",
        "Suppose the following input is supplied to the program:\n",
        "hello world! 123\n",
        "Then, the output should be:\n",
        "LETTERS 10\n",
        "\n",
        "DIGITS 3"
      ],
      "metadata": {
        "id": "pjf51UQJODj0"
      }
    },
    {
      "cell_type": "code",
      "source": [
        "def count():\n",
        "  \"\"\"\n",
        "  Count number of alphabtes\n",
        "  and numerics\n",
        "  \"\"\"\n",
        "  ans=input(\"Enter the string \")\n",
        "  dig=0\n",
        "  alp=0\n",
        "  for i in ans:\n",
        "    if i.isalpha()==True:\n",
        "      alp+=1\n",
        "    elif i.isnumeric()==True:\n",
        "      dig+=1\n",
        "  print(\"LETTERS\",alp,end=\" \")\n",
        "  print(\"DIGITS\",dig)\n"
      ],
      "metadata": {
        "id": "_vbHrAK2Nybs"
      },
      "execution_count": 33,
      "outputs": []
    },
    {
      "cell_type": "code",
      "source": [
        "count()"
      ],
      "metadata": {
        "colab": {
          "base_uri": "https://localhost:8080/"
        },
        "id": "zwxJmMwsUcGw",
        "outputId": "bfac36a4-c026-4988-8573-f6bbf04e707f"
      },
      "execution_count": 34,
      "outputs": [
        {
          "output_type": "stream",
          "name": "stdout",
          "text": [
            "Enter the string hello world! 123\n",
            "LETTERS 10 DIGITS 3\n"
          ]
        }
      ]
    },
    {
      "cell_type": "markdown",
      "source": [
        "Question 6:\n",
        "A website requires the users to input username and password to register. Write a program to\n",
        "check the validity of password input by users.\n",
        "Following are the criteria for checking the password:\n",
        "1. At least 1 letter between [a-z]\n",
        "2. At least 1 number between [0-9]\n",
        "1. At least 1 letter between [A-Z]\n",
        "3. At least 1 character from [$#@]\n",
        "4. Minimum length of transaction password: 6\n",
        "5. Maximum length of transaction password: 12\n",
        "Your program should accept a sequence of comma separated passwords and will check them\n",
        "according to the above criteria. Passwords that match the criteria are to be printed, each\n",
        "separated by a comma.\n",
        "Example\n",
        "If the following passwords are given as input to the program:\n",
        "ABd1234@1,a F1#,2w3E*,2We3345\n",
        "Then, the output of the program should be:\n",
        "ABd1234@1"
      ],
      "metadata": {
        "id": "32sZ81fLUnvM"
      }
    },
    {
      "cell_type": "code",
      "source": [
        "def password():\n",
        "  \"\"\"\n",
        "  Check and return passwords that \n",
        "  follows the above constraints\n",
        "  \"\"\"\n",
        "\n",
        "  import re  \n",
        "  ans=input(\"Enter the passwords \")\n",
        "  ans1=ans.split(\",\")\n",
        "  answer=[]\n",
        "  for a in ans1:\n",
        "   total_dig=len(re.findall(\"[0-9]\",a))\n",
        "   total_small=len(re.findall(\"[a-z]\",a))\n",
        "   total_big=len(re.findall(\"[A-Z]\",a))\n",
        "   total_spec=len(re.findall(\"[$#@]\",a))\n",
        "   if total_dig>=1 and total_small>=1 and total_big>=1 and total_spec>=1 and ((len(a)>=6) and (len(a)<=12)):\n",
        "    answer.append(a)\n",
        "  return answer "
      ],
      "metadata": {
        "id": "JNa0j8mLUdiP"
      },
      "execution_count": 10,
      "outputs": []
    },
    {
      "cell_type": "code",
      "source": [
        "password()"
      ],
      "metadata": {
        "colab": {
          "base_uri": "https://localhost:8080/"
        },
        "id": "L9DAChmtZDjZ",
        "outputId": "1963c969-8928-4d08-d70e-5cad22e6db4c"
      },
      "execution_count": 11,
      "outputs": [
        {
          "name": "stdout",
          "output_type": "stream",
          "text": [
            "Enter the passwords ABd1234@1,a F1#,2w3E*,2We3345\n"
          ]
        },
        {
          "output_type": "execute_result",
          "data": {
            "text/plain": [
              "['ABd1234@1']"
            ]
          },
          "metadata": {},
          "execution_count": 11
        }
      ]
    }
  ]
}