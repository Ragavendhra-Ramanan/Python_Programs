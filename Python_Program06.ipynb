{
  "nbformat": 4,
  "nbformat_minor": 0,
  "metadata": {
    "colab": {
      "name": "Python_Program06.ipynb",
      "provenance": [],
      "authorship_tag": "ABX9TyMR1gIr37n0ANrijPv85LAD",
      "include_colab_link": true
    },
    "kernelspec": {
      "name": "python3",
      "display_name": "Python 3"
    },
    "language_info": {
      "name": "python"
    }
  },
  "cells": [
    {
      "cell_type": "markdown",
      "metadata": {
        "id": "view-in-github",
        "colab_type": "text"
      },
      "source": [
        "<a href=\"https://colab.research.google.com/github/Ragavendhra-Ramanan/Python_Programs/blob/main/Python_Program06.ipynb\" target=\"_parent\"><img src=\"https://colab.research.google.com/assets/colab-badge.svg\" alt=\"Open In Colab\"/></a>"
      ]
    },
    {
      "cell_type": "markdown",
      "source": [
        "01.Write a Python Program to Display Fibonacci Sequence Using Recursion?"
      ],
      "metadata": {
        "id": "C6Z6E4_l0Ld3"
      }
    },
    {
      "cell_type": "code",
      "execution_count": 14,
      "metadata": {
        "id": "IdydT76L0HGQ"
      },
      "outputs": [],
      "source": [
        "def fib(n):\n",
        "  \"\"\"\n",
        "  This function prints\n",
        "  fibonacci sequence using recursion\n",
        "  \"\"\"\n",
        "  if(n==1):\n",
        "    return 0\n",
        "  elif(n==2):\n",
        "    return 1\n",
        "\n",
        "  return fib(n-2)+fib(n-1) "
      ]
    },
    {
      "cell_type": "code",
      "source": [
        "n=10\n",
        "for i in range(1,n):\n",
        "  print(fib(i))"
      ],
      "metadata": {
        "colab": {
          "base_uri": "https://localhost:8080/"
        },
        "id": "_D99-IAE0sAY",
        "outputId": "5ff230b7-2e48-4aec-b8d3-59ead9263c91"
      },
      "execution_count": 18,
      "outputs": [
        {
          "output_type": "stream",
          "name": "stdout",
          "text": [
            "0\n",
            "1\n",
            "1\n",
            "2\n",
            "3\n",
            "5\n",
            "8\n",
            "13\n",
            "21\n"
          ]
        }
      ]
    },
    {
      "cell_type": "markdown",
      "source": [
        "02.Write a Python Program to Find Factorial of Number Using Recursion?"
      ],
      "metadata": {
        "id": "T79SJyz70u7d"
      }
    },
    {
      "cell_type": "code",
      "source": [
        "def fact(a):\n",
        "  \"\"\"\n",
        "  This function prints factorial of a number\n",
        "\n",
        "  \"\"\"\n",
        "  if a==1:\n",
        "    return 1\n",
        "  return a*fact(a-1)"
      ],
      "metadata": {
        "id": "6-P6PlCK4NCA"
      },
      "execution_count": 19,
      "outputs": []
    },
    {
      "cell_type": "code",
      "source": [
        "fact(5)"
      ],
      "metadata": {
        "colab": {
          "base_uri": "https://localhost:8080/"
        },
        "id": "tcaucU9S4q53",
        "outputId": "d026685b-ccf1-46c3-e78a-e8faf27f98df"
      },
      "execution_count": 21,
      "outputs": [
        {
          "output_type": "execute_result",
          "data": {
            "text/plain": [
              "120"
            ]
          },
          "metadata": {},
          "execution_count": 21
        }
      ]
    },
    {
      "cell_type": "markdown",
      "source": [
        "03.Write a Python Program to calculate your Body Mass Index?"
      ],
      "metadata": {
        "id": "7u6ZuMu34w-q"
      }
    },
    {
      "cell_type": "code",
      "source": [
        "def bmi():\n",
        "  \"\"\"\n",
        "  bmi= (weight in kg)/height in meter)**2\n",
        "  \"\"\"\n",
        "\n",
        "  height=float(input(\"Enter height in meter\"))\n",
        "  weight=int(input(\"Enter weight in kilogram\"))\n",
        "\n",
        "  print(\"BMI Value is \",(weight)/(height**2))"
      ],
      "metadata": {
        "id": "-DQ5wN6f4sI6"
      },
      "execution_count": 26,
      "outputs": []
    },
    {
      "cell_type": "code",
      "source": [
        "bmi()"
      ],
      "metadata": {
        "colab": {
          "base_uri": "https://localhost:8080/"
        },
        "id": "3Qk8uUjx6eex",
        "outputId": "220c2749-e79b-4a28-eb8e-5c7a1a724ae3"
      },
      "execution_count": 27,
      "outputs": [
        {
          "output_type": "stream",
          "name": "stdout",
          "text": [
            "Enter height in meter1.8\n",
            "Enter weight in kilogram70\n",
            "BMI Value is  21.604938271604937\n"
          ]
        }
      ]
    },
    {
      "cell_type": "markdown",
      "source": [
        "04.Write a Python Program to calculate the natural logarithm of any number?"
      ],
      "metadata": {
        "id": "G-y_yt8o6-Mt"
      }
    },
    {
      "cell_type": "code",
      "source": [
        "import math\n",
        "from math import log\n",
        "print(log(14))"
      ],
      "metadata": {
        "colab": {
          "base_uri": "https://localhost:8080/"
        },
        "id": "kdN__nMk6gPM",
        "outputId": "00379692-71d6-4c62-8069-3d56cc103822"
      },
      "execution_count": 29,
      "outputs": [
        {
          "output_type": "stream",
          "name": "stdout",
          "text": [
            "2.6390573296152584\n"
          ]
        }
      ]
    },
    {
      "cell_type": "markdown",
      "source": [
        "05.Write a Python Program for cube sum of first n natural numbers?"
      ],
      "metadata": {
        "id": "1NnRlaBR7aY1"
      }
    },
    {
      "cell_type": "code",
      "source": [
        "def cube(n):\n",
        "  \"\"\"\n",
        "  This function prints cube of a number\n",
        "  \"\"\"\n",
        "  print(\"Cube of first {} natural number is {}\",(n,(n*(n+1))**2/(4)))"
      ],
      "metadata": {
        "id": "uJKgHtTM7Vl8"
      },
      "execution_count": 32,
      "outputs": []
    },
    {
      "cell_type": "code",
      "source": [
        "cube(5)"
      ],
      "metadata": {
        "colab": {
          "base_uri": "https://localhost:8080/"
        },
        "id": "B1QdG6JO7__1",
        "outputId": "eaa6c179-3ce0-4e12-f12e-7f3aa1c93360"
      },
      "execution_count": 33,
      "outputs": [
        {
          "output_type": "stream",
          "name": "stdout",
          "text": [
            "Cube of first {} natural number is {} (5, 225.0)\n"
          ]
        }
      ]
    }
  ]
}