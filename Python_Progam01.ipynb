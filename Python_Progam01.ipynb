{
  "nbformat": 4,
  "nbformat_minor": 0,
  "metadata": {
    "colab": {
      "name": "Python_Progam01.ipynb",
      "provenance": [],
      "collapsed_sections": [],
      "authorship_tag": "ABX9TyNkegHZ76KvSsYHMLkNDaeX",
      "include_colab_link": true
    },
    "kernelspec": {
      "name": "python3",
      "display_name": "Python 3"
    },
    "language_info": {
      "name": "python"
    }
  },
  "cells": [
    {
      "cell_type": "markdown",
      "metadata": {
        "id": "view-in-github",
        "colab_type": "text"
      },
      "source": [
        "<a href=\"https://colab.research.google.com/github/Ragavendhra-Ramanan/Python_Programs/blob/main/Python_Progam01.ipynb\" target=\"_parent\"><img src=\"https://colab.research.google.com/assets/colab-badge.svg\" alt=\"Open In Colab\"/></a>"
      ]
    },
    {
      "cell_type": "markdown",
      "source": [
        "01.Write a Python program to print &quot;Hello Python&quot;?"
      ],
      "metadata": {
        "id": "Q-KYFmMrXKOD"
      }
    },
    {
      "cell_type": "code",
      "execution_count": 1,
      "metadata": {
        "colab": {
          "base_uri": "https://localhost:8080/"
        },
        "id": "nEv-cRUZXFaf",
        "outputId": "3689fcc3-4a68-42fd-8110-a2079807c945"
      },
      "outputs": [
        {
          "output_type": "stream",
          "name": "stdout",
          "text": [
            "Hello Python\n"
          ]
        }
      ],
      "source": [
        "#print \"Hello Python\"\n",
        "print(\"Hello Python\")\n"
      ]
    },
    {
      "cell_type": "markdown",
      "source": [
        "02.Write a Python program to do arithmetical operations addition and division.?"
      ],
      "metadata": {
        "id": "pyDLBEfyXc3I"
      }
    },
    {
      "cell_type": "code",
      "source": [
        "def operations(a,b,symbol):\n",
        "  \"\"\"This program does + and\n",
        "   / opeations\"\"\"\n",
        "   \n",
        "  if symbol== \"+\" :\n",
        "    print(a+b)\n",
        "  elif symbol ==\"/\":\n",
        "    print(a/b)"
      ],
      "metadata": {
        "id": "n3bFyzvMXbzq"
      },
      "execution_count": 5,
      "outputs": []
    },
    {
      "cell_type": "code",
      "source": [
        "operations(1,3,\"+\")"
      ],
      "metadata": {
        "colab": {
          "base_uri": "https://localhost:8080/"
        },
        "id": "5nKWRs9xYJDr",
        "outputId": "d64a111e-68f4-4508-bcef-c3f1bd05aabe"
      },
      "execution_count": 6,
      "outputs": [
        {
          "output_type": "stream",
          "name": "stdout",
          "text": [
            "4\n"
          ]
        }
      ]
    },
    {
      "cell_type": "code",
      "source": [
        "operations(3,4,'/')"
      ],
      "metadata": {
        "colab": {
          "base_uri": "https://localhost:8080/"
        },
        "id": "8TndPjjJYMlp",
        "outputId": "a4f69b3e-f48c-49a0-bd5a-b58844149412"
      },
      "execution_count": 4,
      "outputs": [
        {
          "output_type": "stream",
          "name": "stdout",
          "text": [
            "0.75\n"
          ]
        }
      ]
    },
    {
      "cell_type": "markdown",
      "source": [
        "03.Write a Python program to find the area of a triangle?"
      ],
      "metadata": {
        "id": "JxCgvPvwYP7R"
      }
    },
    {
      "cell_type": "code",
      "source": [
        "def area(base,height):\n",
        "  \"\"\"\n",
        "  This program prints area of traingle\n",
        "  \"\"\"\n",
        "  return (1/2*(base*height))\n"
      ],
      "metadata": {
        "id": "4W2HW4wvYPJh"
      },
      "execution_count": 7,
      "outputs": []
    },
    {
      "cell_type": "code",
      "source": [
        "area(10,20)"
      ],
      "metadata": {
        "colab": {
          "base_uri": "https://localhost:8080/"
        },
        "id": "wa-8_VIbYxXR",
        "outputId": "4ecd9c60-75d2-49ed-a8a1-00c917561f7c"
      },
      "execution_count": 8,
      "outputs": [
        {
          "output_type": "execute_result",
          "data": {
            "text/plain": [
              "100.0"
            ]
          },
          "metadata": {},
          "execution_count": 8
        }
      ]
    },
    {
      "cell_type": "markdown",
      "source": [
        "04.Write a Python program to swap two variables?"
      ],
      "metadata": {
        "id": "QYkQHJ8LY0LX"
      }
    },
    {
      "cell_type": "code",
      "source": [
        "def swap(a,b):\n",
        "  \"\"\"\n",
        "  This program swaps a and b\n",
        "  \"\"\"\n",
        "  c=b\n",
        "  b=a\n",
        "  a=c\n",
        "\n",
        "  return a,b"
      ],
      "metadata": {
        "id": "skn1IND8Yyrr"
      },
      "execution_count": 13,
      "outputs": []
    },
    {
      "cell_type": "code",
      "source": [
        "a,b=swap(10,20)"
      ],
      "metadata": {
        "id": "oqX_nFYQZEJC"
      },
      "execution_count": 14,
      "outputs": []
    },
    {
      "cell_type": "code",
      "source": [
        "a"
      ],
      "metadata": {
        "colab": {
          "base_uri": "https://localhost:8080/"
        },
        "id": "q7fXRXx3ZGk7",
        "outputId": "5d877975-2e58-477e-dab9-c819da7fc489"
      },
      "execution_count": 15,
      "outputs": [
        {
          "output_type": "execute_result",
          "data": {
            "text/plain": [
              "20"
            ]
          },
          "metadata": {},
          "execution_count": 15
        }
      ]
    },
    {
      "cell_type": "code",
      "source": [
        "b"
      ],
      "metadata": {
        "colab": {
          "base_uri": "https://localhost:8080/"
        },
        "id": "EYjXSGgUZGwX",
        "outputId": "8dbc0a49-8acd-4387-8dcf-6f006f4667a6"
      },
      "execution_count": 16,
      "outputs": [
        {
          "output_type": "execute_result",
          "data": {
            "text/plain": [
              "10"
            ]
          },
          "metadata": {},
          "execution_count": 16
        }
      ]
    },
    {
      "cell_type": "markdown",
      "source": [
        "05.Write a Python program to generate a random number?"
      ],
      "metadata": {
        "id": "cVh1P6OdZLc8"
      }
    },
    {
      "cell_type": "code",
      "source": [
        "import random\n",
        "#random.randint(start, stop)\n",
        "print(random.randint(10,20))"
      ],
      "metadata": {
        "colab": {
          "base_uri": "https://localhost:8080/"
        },
        "id": "ewKVKzPXZHDC",
        "outputId": "bc7279a1-c981-4a59-85f8-4c7d3ccd93f3"
      },
      "execution_count": 20,
      "outputs": [
        {
          "output_type": "stream",
          "name": "stdout",
          "text": [
            "19\n"
          ]
        }
      ]
    }
  ]
}