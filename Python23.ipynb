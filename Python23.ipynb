{
  "nbformat": 4,
  "nbformat_minor": 0,
  "metadata": {
    "colab": {
      "provenance": [],
      "authorship_tag": "ABX9TyNq8y0Hb+eqNJSPrnhxxcWt",
      "include_colab_link": true
    },
    "kernelspec": {
      "name": "python3",
      "display_name": "Python 3"
    },
    "language_info": {
      "name": "python"
    }
  },
  "cells": [
    {
      "cell_type": "markdown",
      "metadata": {
        "id": "view-in-github",
        "colab_type": "text"
      },
      "source": [
        "<a href=\"https://colab.research.google.com/github/Ragavendhra-Ramanan/Python_Programs/blob/main/Python23.ipynb\" target=\"_parent\"><img src=\"https://colab.research.google.com/assets/colab-badge.svg\" alt=\"Open In Colab\"/></a>"
      ]
    },
    {
      "cell_type": "markdown",
      "source": [
        "Question 1\n",
        "Create a function that takes a number as an argument and returns True or False depending\n",
        "on whether the number is symmetrical or not. A number is symmetrical when it is the same as\n",
        "its reverse.\n",
        "Examples\n",
        "is_symmetrical(7227) ➞ True\n",
        "is_symmetrical(12567) ➞ False\n",
        "is_symmetrical(44444444) ➞ True\n",
        "is_symmetrical(9939) ➞ False\n",
        "is_symmetrical(1112111) ➞ True"
      ],
      "metadata": {
        "id": "xCEN7baDkfxy"
      }
    },
    {
      "cell_type": "code",
      "execution_count": 1,
      "metadata": {
        "id": "3wFBy6x7kRPN"
      },
      "outputs": [],
      "source": [
        "def is_symmetrical(a):\n",
        "  \"\"\"\n",
        "  check if a is symmetrical\n",
        "  \"\"\"\n",
        "\n",
        "  n=a\n",
        "  num=0\n",
        "  while n>0:\n",
        "    num=(num*10)+(n%10)\n",
        "    n=n//10\n",
        "  return num==a\n"
      ]
    },
    {
      "cell_type": "code",
      "source": [
        "is_symmetrical(9939)"
      ],
      "metadata": {
        "colab": {
          "base_uri": "https://localhost:8080/"
        },
        "id": "Huek5jpGlF39",
        "outputId": "011df170-faa1-4c97-b3f4-1d085ebe8802"
      },
      "execution_count": 2,
      "outputs": [
        {
          "output_type": "execute_result",
          "data": {
            "text/plain": [
              "False"
            ]
          },
          "metadata": {},
          "execution_count": 2
        }
      ]
    },
    {
      "cell_type": "code",
      "source": [
        "is_symmetrical(1112111) "
      ],
      "metadata": {
        "colab": {
          "base_uri": "https://localhost:8080/"
        },
        "id": "Dh0rfeGXlKrW",
        "outputId": "f48b61e4-cf26-4abf-da39-cee54166a12a"
      },
      "execution_count": 3,
      "outputs": [
        {
          "output_type": "execute_result",
          "data": {
            "text/plain": [
              "True"
            ]
          },
          "metadata": {},
          "execution_count": 3
        }
      ]
    },
    {
      "cell_type": "markdown",
      "source": [
        "Question 2\n",
        "Given a string of numbers separated by a comma and space, return the product of the\n",
        "numbers.\n",
        "Examples\n",
        "multiply_nums(&quot;2, 3&quot;) ➞ 6\n",
        "multiply_nums(&quot;1, 2, 3, 4&quot;) ➞ 24\n",
        "multiply_nums(&quot;54, 75, 453, 0&quot;) ➞ 0\n",
        "multiply_nums(&quot;10, -2&quot;) ➞ -20"
      ],
      "metadata": {
        "id": "AHdHdYMQlQA8"
      }
    },
    {
      "cell_type": "code",
      "source": [
        "def multiply_nums(a):\n",
        "  \"\"\"\n",
        "  multiply the given numbers\n",
        "  \"\"\"\n",
        "  from functools import reduce\n",
        "  numbers=[]\n",
        "  val=0\n",
        "  for i in a:\n",
        "    if i.isnumeric():\n",
        "      val=(val*10)+int(i)\n",
        "    else:\n",
        "      numbers.append(val)\n",
        "      val=0\n",
        "  numbers.append(val)\n",
        "  return reduce(lambda x,y:x*y ,numbers)"
      ],
      "metadata": {
        "id": "U6fxEb5QlN2g"
      },
      "execution_count": 25,
      "outputs": []
    },
    {
      "cell_type": "code",
      "source": [
        "multiply_nums(\"54,75,453,0\") "
      ],
      "metadata": {
        "colab": {
          "base_uri": "https://localhost:8080/"
        },
        "id": "w7wmI7cvl54l",
        "outputId": "91e0314e-be2e-495e-c9da-8f1ad98505ae"
      },
      "execution_count": 26,
      "outputs": [
        {
          "output_type": "execute_result",
          "data": {
            "text/plain": [
              "0"
            ]
          },
          "metadata": {},
          "execution_count": 26
        }
      ]
    },
    {
      "cell_type": "code",
      "source": [
        "multiply_nums(\"1,2,3,4\") "
      ],
      "metadata": {
        "colab": {
          "base_uri": "https://localhost:8080/"
        },
        "id": "qahTE963l7Rs",
        "outputId": "6b660190-42b4-4c18-9ae3-affe098135a6"
      },
      "execution_count": 27,
      "outputs": [
        {
          "output_type": "execute_result",
          "data": {
            "text/plain": [
              "24"
            ]
          },
          "metadata": {},
          "execution_count": 27
        }
      ]
    },
    {
      "cell_type": "markdown",
      "source": [
        "Question 3\n",
        "Create a function that squares every digit of a number.\n",
        "Examples\n",
        "square_digits(9119) ➞ 811181\n",
        "square_digits(2483) ➞ 416649\n",
        "square_digits(3212) ➞ 9414\n",
        "Notes\n",
        "The function receives an integer and must return an integer."
      ],
      "metadata": {
        "id": "qgC6ctkQmx8B"
      }
    },
    {
      "cell_type": "code",
      "source": [
        "def square_digits(a):\n",
        "  \"\"\"\n",
        "  return squares\n",
        "  \"\"\"\n",
        "  ans=str(a)\n",
        "  res=\"\"\n",
        "\n",
        "  for i in ans:\n",
        "    res+=str(int(i)**2)\n",
        "  return int(res)\n"
      ],
      "metadata": {
        "id": "q2ZRSJXUmxnN"
      },
      "execution_count": 34,
      "outputs": []
    },
    {
      "cell_type": "code",
      "source": [
        "square_digits(3212) "
      ],
      "metadata": {
        "colab": {
          "base_uri": "https://localhost:8080/"
        },
        "id": "wbcnUGpkmE8p",
        "outputId": "e059a89f-e8a8-4a0c-86ba-332b7d8bd8bc"
      },
      "execution_count": 35,
      "outputs": [
        {
          "output_type": "execute_result",
          "data": {
            "text/plain": [
              "9414"
            ]
          },
          "metadata": {},
          "execution_count": 35
        }
      ]
    },
    {
      "cell_type": "code",
      "source": [
        "square_digits(9119)"
      ],
      "metadata": {
        "colab": {
          "base_uri": "https://localhost:8080/"
        },
        "id": "piYp4VSQnfXl",
        "outputId": "d9cb5b4a-2d99-4eee-d310-7c2ef3d0d17a"
      },
      "execution_count": 36,
      "outputs": [
        {
          "output_type": "execute_result",
          "data": {
            "text/plain": [
              "811181"
            ]
          },
          "metadata": {},
          "execution_count": 36
        }
      ]
    },
    {
      "cell_type": "markdown",
      "source": [
        "Question 4\n",
        "Create a function that sorts a list and removes all duplicate items from it.\n",
        "Examples\n",
        "setify([1, 3, 3, 5, 5]) ➞ [1, 3, 5]\n",
        "setify([4, 4, 4, 4]) ➞ [4]\n",
        "setify([5, 7, 8, 9, 10, 15]) ➞ [5, 7, 8, 9, 10, 15]\n",
        "setify([3, 3, 3, 2, 1]) ➞ [1, 2, 3]"
      ],
      "metadata": {
        "id": "fTM0NB1Enpj4"
      }
    },
    {
      "cell_type": "code",
      "source": [
        "def setify(a):\n",
        "  \"\"\"\n",
        "  sort and remove duplicate elements\n",
        "  \"\"\"\n",
        "  return sorted(set(a))\n"
      ],
      "metadata": {
        "id": "xm9cmPGYnjaw"
      },
      "execution_count": 37,
      "outputs": []
    },
    {
      "cell_type": "code",
      "source": [
        "setify([5, 7, 8, 9, 10, 15])"
      ],
      "metadata": {
        "colab": {
          "base_uri": "https://localhost:8080/"
        },
        "id": "nut5qZqSn10Y",
        "outputId": "93e3218a-957b-44ec-8201-2161cdaa46ca"
      },
      "execution_count": 38,
      "outputs": [
        {
          "output_type": "execute_result",
          "data": {
            "text/plain": [
              "[5, 7, 8, 9, 10, 15]"
            ]
          },
          "metadata": {},
          "execution_count": 38
        }
      ]
    },
    {
      "cell_type": "code",
      "source": [
        "setify([3, 3, 3, 2, 1])"
      ],
      "metadata": {
        "colab": {
          "base_uri": "https://localhost:8080/"
        },
        "id": "SMuv8sf6n3Ur",
        "outputId": "90aabc7c-f6e2-48b6-dabb-c671de3c737e"
      },
      "execution_count": 39,
      "outputs": [
        {
          "output_type": "execute_result",
          "data": {
            "text/plain": [
              "[1, 2, 3]"
            ]
          },
          "metadata": {},
          "execution_count": 39
        }
      ]
    },
    {
      "cell_type": "markdown",
      "source": [
        "Question 5\n",
        "Create a function that returns the mean of all digits.\n",
        "Examples\n",
        "mean(42) ➞ 3\n",
        "mean(12345) ➞ 3\n",
        "mean(666) ➞ 6\n",
        "Notes\n",
        " The mean of all digits is the sum of digits / how many digits there are (e.g. mean of digits in\n",
        "512 is (5+1+2)/3(number of digits) = 8/3=2).\n",
        " The mean will always be an integer."
      ],
      "metadata": {
        "id": "K-aqHEOrn8x1"
      }
    },
    {
      "cell_type": "code",
      "source": [
        "def mean(a):\n",
        "  \"\"\"\n",
        "  returns mean of all digits\n",
        "  \"\"\"\n",
        "  l=0\n",
        "  total=0\n",
        "  while a>0:\n",
        "    total+=a%10\n",
        "    a=a//10\n",
        "    l+=1\n",
        "  return total//l"
      ],
      "metadata": {
        "id": "q5IYfJvan6ax"
      },
      "execution_count": 42,
      "outputs": []
    },
    {
      "cell_type": "code",
      "source": [
        "mean(512)"
      ],
      "metadata": {
        "colab": {
          "base_uri": "https://localhost:8080/"
        },
        "id": "IW5VEgrun5bl",
        "outputId": "38af9db4-af25-4826-abd2-f3265980b2cf"
      },
      "execution_count": 43,
      "outputs": [
        {
          "output_type": "execute_result",
          "data": {
            "text/plain": [
              "2"
            ]
          },
          "metadata": {},
          "execution_count": 43
        }
      ]
    },
    {
      "cell_type": "code",
      "source": [
        "mean(12345)"
      ],
      "metadata": {
        "colab": {
          "base_uri": "https://localhost:8080/"
        },
        "id": "88QqSicPofYY",
        "outputId": "8c9e315c-4b60-4a0f-f4e2-a44e3893eae2"
      },
      "execution_count": 44,
      "outputs": [
        {
          "output_type": "execute_result",
          "data": {
            "text/plain": [
              "3"
            ]
          },
          "metadata": {},
          "execution_count": 44
        }
      ]
    }
  ]
}