{
  "nbformat": 4,
  "nbformat_minor": 0,
  "metadata": {
    "colab": {
      "name": "Python_Program05.ipynb",
      "provenance": [],
      "authorship_tag": "ABX9TyPuyV5W71HESa7o7yKSCFeU",
      "include_colab_link": true
    },
    "kernelspec": {
      "name": "python3",
      "display_name": "Python 3"
    },
    "language_info": {
      "name": "python"
    }
  },
  "cells": [
    {
      "cell_type": "markdown",
      "metadata": {
        "id": "view-in-github",
        "colab_type": "text"
      },
      "source": [
        "<a href=\"https://colab.research.google.com/github/Ragavendhra-Ramanan/Python_Programs/blob/main/Python_Program05.ipynb\" target=\"_parent\"><img src=\"https://colab.research.google.com/assets/colab-badge.svg\" alt=\"Open In Colab\"/></a>"
      ]
    },
    {
      "cell_type": "markdown",
      "source": [
        "01.Write a Python Program to Find LCM?"
      ],
      "metadata": {
        "id": "xAsChCVXqXi0"
      }
    },
    {
      "cell_type": "code",
      "execution_count": 1,
      "metadata": {
        "id": "qPB1N_PgqGM4"
      },
      "outputs": [],
      "source": [
        "def lcm(a,b):\n",
        "  \"\"\"\n",
        "  This function \n",
        "  prints lcm of to numbers\n",
        "  \"\"\"\n",
        "  if a>b:\n",
        "    high=a\n",
        "  else:\n",
        "    high=b\n",
        "  \n",
        "  while(True):\n",
        "    if((high%a)==0 and (high%b)==0):\n",
        "      print(\"The lcm of {} and {} is {}\".format(a,b,high))\n",
        "      break\n",
        "    high+=1"
      ]
    },
    {
      "cell_type": "code",
      "source": [
        "lcm(10,200)"
      ],
      "metadata": {
        "colab": {
          "base_uri": "https://localhost:8080/"
        },
        "id": "_E-RDW4WrTLL",
        "outputId": "996a7569-194a-418d-bf18-59e3a8aad771"
      },
      "execution_count": 3,
      "outputs": [
        {
          "output_type": "stream",
          "name": "stdout",
          "text": [
            "The lcm of 10 and 200 is 200\n"
          ]
        }
      ]
    },
    {
      "cell_type": "code",
      "source": [
        "lcm(47,87)"
      ],
      "metadata": {
        "colab": {
          "base_uri": "https://localhost:8080/"
        },
        "id": "XIYUKfOlrgym",
        "outputId": "609d9517-cf22-4c07-f9f7-6e589260a310"
      },
      "execution_count": 4,
      "outputs": [
        {
          "output_type": "stream",
          "name": "stdout",
          "text": [
            "The lcm of 47 and 87 is 4089\n"
          ]
        }
      ]
    },
    {
      "cell_type": "markdown",
      "source": [
        "02.Write a Python Program to Find HCF?"
      ],
      "metadata": {
        "id": "bdoiwsfGrnpp"
      }
    },
    {
      "cell_type": "code",
      "source": [
        "def hcf(a,b):\n",
        "  \"\"\"\n",
        "  This function prints\n",
        "  hcf of two numbers\n",
        "  \"\"\"\n",
        "  if(a==0):\n",
        "    return b\n",
        "  return hcf(b%a,a)"
      ],
      "metadata": {
        "id": "Qoi3G4tErlBX"
      },
      "execution_count": 6,
      "outputs": []
    },
    {
      "cell_type": "code",
      "source": [
        "hcf(30,10)"
      ],
      "metadata": {
        "colab": {
          "base_uri": "https://localhost:8080/"
        },
        "id": "883cNvoir7v3",
        "outputId": "a24312a7-3e66-4c92-9988-1d84522c6715"
      },
      "execution_count": 7,
      "outputs": [
        {
          "output_type": "execute_result",
          "data": {
            "text/plain": [
              "10"
            ]
          },
          "metadata": {},
          "execution_count": 7
        }
      ]
    },
    {
      "cell_type": "code",
      "source": [
        "hcf(24,36)"
      ],
      "metadata": {
        "colab": {
          "base_uri": "https://localhost:8080/"
        },
        "id": "NdnILy69sLia",
        "outputId": "ef098967-bcf9-4cba-eb63-c88884ba47ca"
      },
      "execution_count": 9,
      "outputs": [
        {
          "output_type": "execute_result",
          "data": {
            "text/plain": [
              "12"
            ]
          },
          "metadata": {},
          "execution_count": 9
        }
      ]
    },
    {
      "cell_type": "markdown",
      "source": [
        "03.Write a Python Program to Convert Decimal to Binary, Octal and Hexadecimal?"
      ],
      "metadata": {
        "id": "JtplttCcsSWK"
      }
    },
    {
      "cell_type": "code",
      "source": [
        "def conversion(num,conversion):\n",
        "  \"\"\"\n",
        "  This function is used to\n",
        "  convert decimal to binary ,\n",
        "  octal, and hexadecimal\n",
        "  \"\"\"\n",
        "  if conversion==\"binary\":\n",
        "    factor=2\n",
        "  elif conversion==\"octal\":\n",
        "    factor=8\n",
        "  else:\n",
        "    factor=16\n",
        "  \n",
        "  table={0:\"0\",1:\"1\",2:\"2\",3:\"3\",4:\"4\",5:\"5\",6:\"6\",7:\"7\",8:\"8\",9:\"9\",10:\"A\",11:\"B\",12:\"C\",13:\"D\",14:\"E\",15:\"F\"}\n",
        "  result=\"\"\n",
        "  while num>0:\n",
        "    result+=str(num%factor)\n",
        "    num=num//factor\n",
        "  \n",
        "  return \"\".join(list(reversed(result)))\n",
        "    \n"
      ],
      "metadata": {
        "id": "eOy6DLKysNoB"
      },
      "execution_count": 16,
      "outputs": []
    },
    {
      "cell_type": "code",
      "source": [
        "conversion(8,\"binary\")"
      ],
      "metadata": {
        "colab": {
          "base_uri": "https://localhost:8080/",
          "height": 35
        },
        "id": "UCQRjhEVxGP3",
        "outputId": "aa70c31e-e1d6-4e76-8574-26f6e9498dfa"
      },
      "execution_count": 17,
      "outputs": [
        {
          "output_type": "execute_result",
          "data": {
            "text/plain": [
              "'1000'"
            ],
            "application/vnd.google.colaboratory.intrinsic+json": {
              "type": "string"
            }
          },
          "metadata": {},
          "execution_count": 17
        }
      ]
    },
    {
      "cell_type": "code",
      "source": [
        "conversion(33,\"octal\")"
      ],
      "metadata": {
        "colab": {
          "base_uri": "https://localhost:8080/",
          "height": 35
        },
        "id": "34fXFu8NxJB2",
        "outputId": "88d5b1c6-0845-48ce-97ea-e275a3a5b96a"
      },
      "execution_count": 20,
      "outputs": [
        {
          "output_type": "execute_result",
          "data": {
            "text/plain": [
              "'41'"
            ],
            "application/vnd.google.colaboratory.intrinsic+json": {
              "type": "string"
            }
          },
          "metadata": {},
          "execution_count": 20
        }
      ]
    },
    {
      "cell_type": "code",
      "source": [
        "conversion(69,\"hexadecimal\")"
      ],
      "metadata": {
        "colab": {
          "base_uri": "https://localhost:8080/",
          "height": 35
        },
        "id": "OnxLl2sYxZx2",
        "outputId": "918a1dd6-6e04-4eaa-d26a-fe9e1d909806"
      },
      "execution_count": 19,
      "outputs": [
        {
          "output_type": "execute_result",
          "data": {
            "text/plain": [
              "'45'"
            ],
            "application/vnd.google.colaboratory.intrinsic+json": {
              "type": "string"
            }
          },
          "metadata": {},
          "execution_count": 19
        }
      ]
    },
    {
      "cell_type": "markdown",
      "source": [
        "04.Write a Python Program To Find ASCII value of a character?"
      ],
      "metadata": {
        "id": "wlOBFwXSxoNy"
      }
    },
    {
      "cell_type": "code",
      "source": [
        "def ascii(a):\n",
        "  \"\"\"\n",
        "  This function finds ascii value\n",
        "  of a character\n",
        "  \"\"\"\n",
        "  print(\"Ascii value of {} is {}\".format(a,ord(a)))"
      ],
      "metadata": {
        "id": "wCprgfiNxhIw"
      },
      "execution_count": 21,
      "outputs": []
    },
    {
      "cell_type": "code",
      "source": [
        "ascii(\"b\")"
      ],
      "metadata": {
        "colab": {
          "base_uri": "https://localhost:8080/"
        },
        "id": "pZ7t7JR_ybFJ",
        "outputId": "1ba97d8c-6de6-4c8d-aecc-31f30f5c479b"
      },
      "execution_count": 23,
      "outputs": [
        {
          "output_type": "stream",
          "name": "stdout",
          "text": [
            "Ascii value of b is 98\n"
          ]
        }
      ]
    },
    {
      "cell_type": "markdown",
      "source": [
        "05.Write a Python Program to Make a Simple Calculator with 4 basic mathematical operations?"
      ],
      "metadata": {
        "id": "AdwTi84KyhTK"
      }
    },
    {
      "cell_type": "code",
      "source": [
        "def calculator(a,b,op):\n",
        "  \"\"\"\n",
        "  This function is used to make\n",
        "  functional calculator\n",
        "  \"\"\"\n",
        "  \n",
        "  val={\"+\":a+b ,\"-\":a-b,\"*\":a*b,\"/\":a/b}\n",
        "  return val.get(op)\n",
        " \n",
        "    \n",
        "\n"
      ],
      "metadata": {
        "id": "onburZg6ycw0"
      },
      "execution_count": 26,
      "outputs": []
    },
    {
      "cell_type": "code",
      "source": [
        "calculator(12,14,\"+\")"
      ],
      "metadata": {
        "colab": {
          "base_uri": "https://localhost:8080/"
        },
        "id": "hQWRfNF-zJLU",
        "outputId": "bd3e4e43-4bab-4fbd-be98-cee112163c08"
      },
      "execution_count": 27,
      "outputs": [
        {
          "output_type": "execute_result",
          "data": {
            "text/plain": [
              "26"
            ]
          },
          "metadata": {},
          "execution_count": 27
        }
      ]
    },
    {
      "cell_type": "code",
      "source": [
        "calculator(12,14,\"-\")"
      ],
      "metadata": {
        "colab": {
          "base_uri": "https://localhost:8080/"
        },
        "id": "_IcAwTgnzhjO",
        "outputId": "4168eb54-e1b3-43d8-8e83-eb2944cf0780"
      },
      "execution_count": 28,
      "outputs": [
        {
          "output_type": "execute_result",
          "data": {
            "text/plain": [
              "-2"
            ]
          },
          "metadata": {},
          "execution_count": 28
        }
      ]
    }
  ]
}