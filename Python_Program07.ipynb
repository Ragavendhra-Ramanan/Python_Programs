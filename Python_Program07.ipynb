{
  "nbformat": 4,
  "nbformat_minor": 0,
  "metadata": {
    "colab": {
      "name": "Python_Program07.ipynb",
      "provenance": [],
      "authorship_tag": "ABX9TyM+NvQnu+b3QMsQRg0ixgwF",
      "include_colab_link": true
    },
    "kernelspec": {
      "name": "python3",
      "display_name": "Python 3"
    },
    "language_info": {
      "name": "python"
    }
  },
  "cells": [
    {
      "cell_type": "markdown",
      "metadata": {
        "id": "view-in-github",
        "colab_type": "text"
      },
      "source": [
        "<a href=\"https://colab.research.google.com/github/Ragavendhra-Ramanan/Python_Programs/blob/main/Python_Program07.ipynb\" target=\"_parent\"><img src=\"https://colab.research.google.com/assets/colab-badge.svg\" alt=\"Open In Colab\"/></a>"
      ]
    },
    {
      "cell_type": "markdown",
      "source": [
        "01.Write a Python Program to find sum of array?"
      ],
      "metadata": {
        "id": "6x-0elco9SrU"
      }
    },
    {
      "cell_type": "code",
      "execution_count": 1,
      "metadata": {
        "id": "q1P_alB59NKk"
      },
      "outputs": [],
      "source": [
        "def sum_Array(arr):\n",
        "\n",
        "  \"\"\"\n",
        "  This program prints the sum of elements \n",
        "  in an array\n",
        "  \"\"\"\n",
        "  \n",
        "  total=0\n",
        "  for i in range(len(arr)):\n",
        "    total+=arr[i]\n",
        "  print(\"Sum of the array is\",total)"
      ]
    },
    {
      "cell_type": "code",
      "source": [
        "sum_Array([1,4,3,88,99])"
      ],
      "metadata": {
        "colab": {
          "base_uri": "https://localhost:8080/"
        },
        "id": "QJ2xkUCa9zXG",
        "outputId": "f6a3a69f-f9f9-450a-f4cf-508227e72665"
      },
      "execution_count": 2,
      "outputs": [
        {
          "output_type": "stream",
          "name": "stdout",
          "text": [
            "Sum of the array is 195\n"
          ]
        }
      ]
    },
    {
      "cell_type": "markdown",
      "source": [
        "02.Write a Python Program to find largest element in an array?"
      ],
      "metadata": {
        "id": "d5-IfqFb-BEg"
      }
    },
    {
      "cell_type": "code",
      "source": [
        "def largest(arr):\n",
        "\n",
        "  \"\"\"\n",
        "  This function is used to\n",
        "  print the largest element in an array\n",
        "  \"\"\"\n",
        "  high=arr[0]\n",
        "  for i in range(1,len(arr)):\n",
        "    if high<arr[i]:\n",
        "      high=arr[i]\n",
        "  print(\"Largest element in the array is\",high)"
      ],
      "metadata": {
        "id": "rc2L09BA92e5"
      },
      "execution_count": 5,
      "outputs": []
    },
    {
      "cell_type": "code",
      "source": [
        "largest([1,4,3,8,10,8,9])"
      ],
      "metadata": {
        "colab": {
          "base_uri": "https://localhost:8080/"
        },
        "id": "hH608AHh-r92",
        "outputId": "0deec9e2-a232-4a52-a096-1d82d44e4ae1"
      },
      "execution_count": 6,
      "outputs": [
        {
          "output_type": "stream",
          "name": "stdout",
          "text": [
            "Largest element in the array is 10\n"
          ]
        }
      ]
    },
    {
      "cell_type": "markdown",
      "source": [
        "03.Write a Python Program for array rotation?"
      ],
      "metadata": {
        "id": "G76-_qR3-zeG"
      }
    },
    {
      "cell_type": "code",
      "source": [
        "def rotate(arr,d):\n",
        "  \"\"\"\n",
        "  This program is used to rotate the array\n",
        "  \"\"\"\n",
        "  \n",
        "  r=1\n",
        "  while r<=d:\n",
        "    last=arr[0]\n",
        "    for i in range(len(arr)-1):\n",
        "      arr[i]=arr[i+1]\n",
        "    arr[len(arr)-1]=last\n",
        "    r+=1\n",
        "  return arr"
      ],
      "metadata": {
        "id": "ug12fVDl-xNL"
      },
      "execution_count": 27,
      "outputs": []
    },
    {
      "cell_type": "code",
      "source": [
        "#rotate by 3 elements\n",
        "rotate([1,2,3,4,5,9,8],3)"
      ],
      "metadata": {
        "colab": {
          "base_uri": "https://localhost:8080/"
        },
        "id": "5sWVjjThWI7U",
        "outputId": "eefb0327-1b2f-43ae-ca1c-0241e2a6fe29"
      },
      "execution_count": 29,
      "outputs": [
        {
          "output_type": "execute_result",
          "data": {
            "text/plain": [
              "[4, 5, 9, 8, 1, 2, 3]"
            ]
          },
          "metadata": {},
          "execution_count": 29
        }
      ]
    },
    {
      "cell_type": "markdown",
      "source": [
        "04.Write a Python Program to Split the array and add the first part to the end?"
      ],
      "metadata": {
        "id": "_hXe8IjTSU05"
      }
    },
    {
      "cell_type": "code",
      "source": [
        "def split(arr):\n",
        "  \"\"\"\n",
        "  This function is used split the array and\n",
        "  add at  end\n",
        "  \"\"\"\n",
        "  n=len(arr)\n",
        "  r=n//2\n",
        "  arr=arr[r:]+arr[:r]\n",
        "  return arr"
      ],
      "metadata": {
        "id": "0VYcw22wSVXz"
      },
      "execution_count": 7,
      "outputs": []
    },
    {
      "cell_type": "code",
      "source": [
        "split([1,3,4,5,9,10,3,2])"
      ],
      "metadata": {
        "colab": {
          "base_uri": "https://localhost:8080/"
        },
        "id": "P8D5AmUfTQhY",
        "outputId": "9df05fee-3199-45f4-91d4-63bce99bb89f"
      },
      "execution_count": 8,
      "outputs": [
        {
          "output_type": "execute_result",
          "data": {
            "text/plain": [
              "[9, 10, 3, 2, 1, 3, 4, 5]"
            ]
          },
          "metadata": {},
          "execution_count": 8
        }
      ]
    },
    {
      "cell_type": "markdown",
      "source": [
        "05.Write a Python Program to check if given array is Monotonic?\n"
      ],
      "metadata": {
        "id": "UQKm_2ozTYqZ"
      }
    },
    {
      "cell_type": "code",
      "source": [
        "def monotonic(arr):\n",
        "  \"\"\"\n",
        "  This function is used to check \n",
        "  if array is monotonic increasing or decreasing\n",
        "  \"\"\"\n",
        "  return all([arr[i]<=arr[i-1] for i in range(1,len(arr))]) or \\\n",
        "             all([arr[i]>=arr[i-1] for i in range(1,len(arr))])"
      ],
      "metadata": {
        "id": "X97unjJzTTa6"
      },
      "execution_count": 15,
      "outputs": []
    },
    {
      "cell_type": "code",
      "source": [
        "monotonic([1,2,3,4,5,8])"
      ],
      "metadata": {
        "colab": {
          "base_uri": "https://localhost:8080/"
        },
        "id": "DGNBTWkxUT7m",
        "outputId": "e941b0ca-3e53-4be1-81cc-eb6a93b5b6b1"
      },
      "execution_count": 16,
      "outputs": [
        {
          "output_type": "execute_result",
          "data": {
            "text/plain": [
              "True"
            ]
          },
          "metadata": {},
          "execution_count": 16
        }
      ]
    },
    {
      "cell_type": "code",
      "source": [
        "monotonic([110,9,8,7,6])"
      ],
      "metadata": {
        "colab": {
          "base_uri": "https://localhost:8080/"
        },
        "id": "BgsucuU0UWme",
        "outputId": "bf9e9192-1f29-42fa-bbbe-c38f89eaaa56"
      },
      "execution_count": 17,
      "outputs": [
        {
          "output_type": "execute_result",
          "data": {
            "text/plain": [
              "True"
            ]
          },
          "metadata": {},
          "execution_count": 17
        }
      ]
    },
    {
      "cell_type": "code",
      "source": [
        "monotonic([1,3,5,2,10])"
      ],
      "metadata": {
        "colab": {
          "base_uri": "https://localhost:8080/"
        },
        "id": "NSS0uXAgUqna",
        "outputId": "24b2f464-6997-4246-a217-20a7100625cd"
      },
      "execution_count": 18,
      "outputs": [
        {
          "output_type": "execute_result",
          "data": {
            "text/plain": [
              "False"
            ]
          },
          "metadata": {},
          "execution_count": 18
        }
      ]
    }
  ]
}