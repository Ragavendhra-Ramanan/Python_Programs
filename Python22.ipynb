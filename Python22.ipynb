{
  "nbformat": 4,
  "nbformat_minor": 0,
  "metadata": {
    "colab": {
      "provenance": [],
      "authorship_tag": "ABX9TyNzwULz05WglTv0qicVcSOw",
      "include_colab_link": true
    },
    "kernelspec": {
      "name": "python3",
      "display_name": "Python 3"
    },
    "language_info": {
      "name": "python"
    }
  },
  "cells": [
    {
      "cell_type": "markdown",
      "metadata": {
        "id": "view-in-github",
        "colab_type": "text"
      },
      "source": [
        "<a href=\"https://colab.research.google.com/github/Ragavendhra-Ramanan/Python_Programs/blob/main/Python22.ipynb\" target=\"_parent\"><img src=\"https://colab.research.google.com/assets/colab-badge.svg\" alt=\"Open In Colab\"/></a>"
      ]
    },
    {
      "cell_type": "markdown",
      "source": [
        "Question1\n",
        "Create a function that takes three parameters where:\n",
        " x is the start of the range (inclusive).\n",
        " y is the end of the range (inclusive).\n",
        " n is the divisor to be checked against.\n",
        "Return an ordered list with numbers in the range that are divisible by the third parameter n.\n",
        "Return an empty list if there are no numbers that are divisible by n.\n",
        "Examples\n",
        "list_operation(1, 10, 3) ➞ [3, 6, 9]\n",
        "list_operation(7, 9, 2) ➞ [8]\n",
        "list_operation(15, 20, 7) ➞ []"
      ],
      "metadata": {
        "id": "Z0A_AHFldeUO"
      }
    },
    {
      "cell_type": "code",
      "execution_count": null,
      "metadata": {
        "id": "nqjcxEOXdAZH"
      },
      "outputs": [],
      "source": [
        "def list_operation(x,y,n):\n",
        "  \"\"\"\n",
        "  multiples of n\n",
        "  \"\"\"\n",
        "  ans=[i for i in range(x,y+1) if i%n==0]\n",
        "  return ans"
      ]
    },
    {
      "cell_type": "code",
      "source": [
        "list_operation(1, 10, 3) "
      ],
      "metadata": {
        "colab": {
          "base_uri": "https://localhost:8080/"
        },
        "id": "udUAotATd2To",
        "outputId": "b5322807-a97d-4442-d3da-f19e7792f1a1"
      },
      "execution_count": null,
      "outputs": [
        {
          "output_type": "execute_result",
          "data": {
            "text/plain": [
              "[3, 6, 9]"
            ]
          },
          "metadata": {},
          "execution_count": 3
        }
      ]
    },
    {
      "cell_type": "markdown",
      "source": [
        "Question2\n",
        "Create a function that takes in two lists and returns True if the second list follows the first list\n",
        "by one element, and False otherwise. In other words, determine if the second list is the first\n",
        "list shifted to the right by 1.\n",
        "Examples\n",
        "simon_says([1, 2], [5, 1]) ➞ True\n",
        "simon_says([1, 2], [5, 5]) ➞ False\n",
        "simon_says([1, 2, 3, 4, 5], [0, 1, 2, 3, 4]) ➞ True\n",
        "simon_says([1, 2, 3, 4, 5], [5, 5, 1, 2, 3]) ➞ False\n",
        "Notes\n",
        " Both input lists will be of the same length, and will have a minimum length of 2.\n",
        " The values of the 0-indexed element in the second list and the n-1th indexed element\n",
        "in the first list do not matter."
      ],
      "metadata": {
        "id": "nrjuZy4Jd_ci"
      }
    },
    {
      "cell_type": "code",
      "source": [
        "def simon_says(a,b):\n",
        "  \"\"\"\n",
        "  determine rotation of lists\n",
        "  \"\"\"\n",
        "  for i,j in zip(a[:-1],b[1:]):\n",
        "    if i!=j:\n",
        "      return False\n",
        "  return True"
      ],
      "metadata": {
        "id": "Magfq3hjd7qJ"
      },
      "execution_count": 1,
      "outputs": []
    },
    {
      "cell_type": "code",
      "source": [
        "simon_says([1, 2, 3, 4, 5], [0, 1, 2, 3, 4])"
      ],
      "metadata": {
        "colab": {
          "base_uri": "https://localhost:8080/"
        },
        "id": "z_B2t6ZsiZGC",
        "outputId": "7a0235d6-e7a3-4255-9d27-ae7de8a53273"
      },
      "execution_count": 2,
      "outputs": [
        {
          "output_type": "execute_result",
          "data": {
            "text/plain": [
              "True"
            ]
          },
          "metadata": {},
          "execution_count": 2
        }
      ]
    },
    {
      "cell_type": "code",
      "source": [
        "simon_says([1, 2, 3, 4, 5], [5, 5, 1, 2, 3])"
      ],
      "metadata": {
        "colab": {
          "base_uri": "https://localhost:8080/"
        },
        "id": "A_bcfLrBib_V",
        "outputId": "35df02d0-fe52-4707-8c01-b5693a14dfc4"
      },
      "execution_count": 3,
      "outputs": [
        {
          "output_type": "execute_result",
          "data": {
            "text/plain": [
              "False"
            ]
          },
          "metadata": {},
          "execution_count": 3
        }
      ]
    },
    {
      "cell_type": "markdown",
      "source": [
        "Question3\n",
        "A group of friends have decided to start a secret society. The name will be the first letter of\n",
        "each of their names, sorted in alphabetical order.\n",
        "Create a function that takes in a list of names and returns the name of the secret society.\n",
        "\n",
        "Examples\n",
        "society_name([&quot;Adam&quot;, &quot;Sarah&quot;, &quot;Malcolm&quot;]) ➞ &quot;AMS&quot;\n",
        "society_name([&quot;Harry&quot;, &quot;Newt&quot;, &quot;Luna&quot;, &quot;Cho&quot;]) ➞ &quot;CHLN&quot;\n",
        "society_name([&quot;Phoebe&quot;, &quot;Chandler&quot;, &quot;Rachel&quot;, &quot;Ross&quot;, &quot;Monica&quot;, &quot;Joey&quot;])"
      ],
      "metadata": {
        "id": "3ri7yg7dif3b"
      }
    },
    {
      "cell_type": "code",
      "source": [
        "def society_name(a):\n",
        "  \"\"\"\n",
        "  return first letter of all names\n",
        "  \"\"\"\n",
        "  ans=\"\"\n",
        "  for i in a:\n",
        "    ans+=i[0]\n",
        "  return ans"
      ],
      "metadata": {
        "id": "Lqgki-YgifUC"
      },
      "execution_count": 4,
      "outputs": []
    },
    {
      "cell_type": "code",
      "source": [
        "society_name([\"Adam\", \"Sarah\", \"Malcolm\"])"
      ],
      "metadata": {
        "colab": {
          "base_uri": "https://localhost:8080/",
          "height": 35
        },
        "id": "mpITXFIviyoo",
        "outputId": "5bff74fb-cd2f-4135-c534-0a75ca9926c8"
      },
      "execution_count": 5,
      "outputs": [
        {
          "output_type": "execute_result",
          "data": {
            "text/plain": [
              "'ASM'"
            ],
            "application/vnd.google.colaboratory.intrinsic+json": {
              "type": "string"
            }
          },
          "metadata": {},
          "execution_count": 5
        }
      ]
    },
    {
      "cell_type": "markdown",
      "source": [
        "Question4\n",
        "An isogram is a word that has no duplicate letters. Create a function that takes a string and\n",
        "returns either True or False depending on whether or not it&#39;s an &quot;isogram&quot;.\n",
        "Examples\n",
        "is_isogram(&quot;Algorism&quot;) ➞ True\n",
        "is_isogram(&quot;PasSword&quot;) ➞ False\n",
        "# Not case sensitive.\n",
        "is_isogram(&quot;Consecutive&quot;) ➞ False\n",
        "Notes\n",
        " Ignore letter case (should not be case sensitive).\n",
        " All test cases contain valid one word strings."
      ],
      "metadata": {
        "id": "0t4oYgeui3Th"
      }
    },
    {
      "cell_type": "code",
      "source": [
        "def is_isogram(a):\n",
        "  \"\"\"\n",
        "  check if no duplicate letters are present\n",
        "  \"\"\"\n",
        "  a=a.lower()\n",
        "  if(len(list(set(a)))==len(a)):\n",
        "    return True\n",
        "  else:\n",
        "    return False"
      ],
      "metadata": {
        "id": "YfiBH1aOi2FS"
      },
      "execution_count": 6,
      "outputs": []
    },
    {
      "cell_type": "code",
      "source": [
        "is_isogram(\"Consecutive\") "
      ],
      "metadata": {
        "colab": {
          "base_uri": "https://localhost:8080/"
        },
        "id": "zu60wVTmjOcb",
        "outputId": "3415a9c5-6cd1-401a-8ca1-1d679c172b17"
      },
      "execution_count": 8,
      "outputs": [
        {
          "output_type": "execute_result",
          "data": {
            "text/plain": [
              "False"
            ]
          },
          "metadata": {},
          "execution_count": 8
        }
      ]
    },
    {
      "cell_type": "code",
      "source": [
        "is_isogram(\"Algorism\") "
      ],
      "metadata": {
        "colab": {
          "base_uri": "https://localhost:8080/"
        },
        "id": "LBxzk3ZyjQcR",
        "outputId": "eb1cac70-ba90-4434-9222-827a35a5117b"
      },
      "execution_count": 9,
      "outputs": [
        {
          "output_type": "execute_result",
          "data": {
            "text/plain": [
              "True"
            ]
          },
          "metadata": {},
          "execution_count": 9
        }
      ]
    },
    {
      "cell_type": "markdown",
      "source": [
        "Question5\n",
        "Create a function that takes a string and returns True or False, depending on whether the\n",
        "characters are in order or not.\n",
        "Examples\n",
        "is_in_order(&quot;abc&quot;) ➞ True\n",
        "is_in_order(&quot;edabit&quot;) ➞ False\n",
        "is_in_order(&quot;123&quot;) ➞ True\n",
        "is_in_order(&quot;xyzz&quot;) ➞ True\n",
        "Notes\n",
        "You don&#39;t have to handle empty strings."
      ],
      "metadata": {
        "id": "9bqkaubKjUeq"
      }
    },
    {
      "cell_type": "code",
      "source": [
        "def is_in_order(a):\n",
        "  \"\"\"\n",
        "  check if words are in order\n",
        "  \"\"\"\n",
        "  if list(a)==list(sorted(a)):\n",
        "    return True\n",
        "  else:\n",
        "    return False"
      ],
      "metadata": {
        "id": "xO83BddVjTjd"
      },
      "execution_count": 12,
      "outputs": []
    },
    {
      "cell_type": "code",
      "source": [
        "is_in_order(\"edabit\") "
      ],
      "metadata": {
        "colab": {
          "base_uri": "https://localhost:8080/"
        },
        "id": "yuTl-fktjqKr",
        "outputId": "977bff03-3971-424f-ae87-93978cf885ee"
      },
      "execution_count": 13,
      "outputs": [
        {
          "output_type": "execute_result",
          "data": {
            "text/plain": [
              "False"
            ]
          },
          "metadata": {},
          "execution_count": 13
        }
      ]
    },
    {
      "cell_type": "code",
      "source": [
        "is_in_order(\"123\")"
      ],
      "metadata": {
        "colab": {
          "base_uri": "https://localhost:8080/"
        },
        "id": "OePRbOhBjriX",
        "outputId": "e4798b09-198f-451c-e538-cadbb73ad3f3"
      },
      "execution_count": 14,
      "outputs": [
        {
          "output_type": "execute_result",
          "data": {
            "text/plain": [
              "True"
            ]
          },
          "metadata": {},
          "execution_count": 14
        }
      ]
    },
    {
      "cell_type": "code",
      "source": [
        "is_in_order(\"xyzz\") "
      ],
      "metadata": {
        "colab": {
          "base_uri": "https://localhost:8080/"
        },
        "id": "QGAc8d2Ejwrh",
        "outputId": "b7b7eedb-e418-4f07-aaab-ba99e7e39ecc"
      },
      "execution_count": 15,
      "outputs": [
        {
          "output_type": "execute_result",
          "data": {
            "text/plain": [
              "True"
            ]
          },
          "metadata": {},
          "execution_count": 15
        }
      ]
    },
    {
      "cell_type": "code",
      "source": [],
      "metadata": {
        "id": "bVcom3iIjzE7"
      },
      "execution_count": null,
      "outputs": []
    }
  ]
}