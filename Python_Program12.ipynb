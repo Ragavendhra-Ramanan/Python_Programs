{
  "nbformat": 4,
  "nbformat_minor": 0,
  "metadata": {
    "colab": {
      "name": "Python_Program12.ipynb",
      "provenance": [],
      "authorship_tag": "ABX9TyOiRrWqw1V0MVvD1oU7vJSV",
      "include_colab_link": true
    },
    "kernelspec": {
      "name": "python3",
      "display_name": "Python 3"
    },
    "language_info": {
      "name": "python"
    }
  },
  "cells": [
    {
      "cell_type": "markdown",
      "metadata": {
        "id": "view-in-github",
        "colab_type": "text"
      },
      "source": [
        "<a href=\"https://colab.research.google.com/github/Ragavendhra-Ramanan/Python_Programs/blob/main/Python_Program12.ipynb\" target=\"_parent\"><img src=\"https://colab.research.google.com/assets/colab-badge.svg\" alt=\"Open In Colab\"/></a>"
      ]
    },
    {
      "cell_type": "markdown",
      "source": [
        "01.Write a Python program to Extract Unique values dictionary values?"
      ],
      "metadata": {
        "id": "hZjtAN7jmLtf"
      }
    },
    {
      "cell_type": "code",
      "execution_count": 2,
      "metadata": {
        "colab": {
          "base_uri": "https://localhost:8080/"
        },
        "id": "gh_iRjzkmACh",
        "outputId": "f7ef0bba-a8da-4dd8-9efc-d4be2a62389e"
      },
      "outputs": [
        {
          "output_type": "stream",
          "name": "stdout",
          "text": [
            "[2, 3]\n"
          ]
        }
      ],
      "source": [
        "a={\"bike\":2,\"car\":2,\"bus\":3,\"cycle\":3}\n",
        "print(list({i for i in a.values()}))"
      ]
    },
    {
      "cell_type": "markdown",
      "source": [
        "02.Write a Python program to find the sum of all items in a dictionary?:"
      ],
      "metadata": {
        "id": "k5flxNjInMYb"
      }
    },
    {
      "cell_type": "code",
      "source": [
        "from functools import reduce\n",
        "b={\"bike\":2,\"car\":2,\"bus\":3,\"cycle\":3}\n",
        "reduce(lambda x,y :x+y ,b.values())"
      ],
      "metadata": {
        "colab": {
          "base_uri": "https://localhost:8080/"
        },
        "id": "ry8-_Q0nmm7e",
        "outputId": "800a5860-9904-46f9-e3ec-e4f3b37252d0"
      },
      "execution_count": 4,
      "outputs": [
        {
          "output_type": "execute_result",
          "data": {
            "text/plain": [
              "10"
            ]
          },
          "metadata": {},
          "execution_count": 4
        }
      ]
    },
    {
      "cell_type": "markdown",
      "source": [
        "03.Write a Python program to Merging two Dictionaries?"
      ],
      "metadata": {
        "id": "hCsPaq5IobZw"
      }
    },
    {
      "cell_type": "code",
      "source": [
        "a={\"bike\":1,\"car\":2}\n",
        "b={\"cycle\":3,\"bus\":4}\n",
        "b.update(a)"
      ],
      "metadata": {
        "id": "P4QIhppSoZ51"
      },
      "execution_count": 9,
      "outputs": []
    },
    {
      "cell_type": "code",
      "source": [
        "b"
      ],
      "metadata": {
        "colab": {
          "base_uri": "https://localhost:8080/"
        },
        "id": "nNkvE2Ooom3u",
        "outputId": "e8ef698d-82eb-4408-acc9-51a4a3cec549"
      },
      "execution_count": 10,
      "outputs": [
        {
          "output_type": "execute_result",
          "data": {
            "text/plain": [
              "{'cycle': 3, 'bus': 4, 'bike': 1, 'car': 2}"
            ]
          },
          "metadata": {},
          "execution_count": 10
        }
      ]
    },
    {
      "cell_type": "markdown",
      "source": [
        "04.Write a Python program to convert key-values list to flat dictionary?"
      ],
      "metadata": {
        "id": "1IMTcAnUpanw"
      }
    },
    {
      "cell_type": "code",
      "source": [
        "a={\"answer\":[1,2,3,4],\"question\":[\"hi\",\"how\",\"are\",\"you\"]}\n",
        "d=dict(zip(a[\"answer\"],a[\"question\"]))\n",
        "print(d)"
      ],
      "metadata": {
        "colab": {
          "base_uri": "https://localhost:8080/"
        },
        "id": "IBMhRdsqpYbg",
        "outputId": "3ab02d5a-896a-44db-a482-fe2fcf4f4062"
      },
      "execution_count": 1,
      "outputs": [
        {
          "output_type": "stream",
          "name": "stdout",
          "text": [
            "{1: 'hi', 2: 'how', 3: 'are', 4: 'you'}\n"
          ]
        }
      ]
    },
    {
      "cell_type": "markdown",
      "source": [
        "05.Write a Python program to insertion at the beginning in OrderedDict?"
      ],
      "metadata": {
        "id": "8qWpl9AernQ0"
      }
    },
    {
      "cell_type": "code",
      "source": [
        "from collections import OrderedDict\n",
        "order= OrderedDict([('hi', '1'), ('hello', '2')])\n",
        "order.update({'hey':'3'})\n",
        "order.move_to_end('hey', last = False)"
      ],
      "metadata": {
        "id": "y4IkS-_krL_4"
      },
      "execution_count": 8,
      "outputs": []
    },
    {
      "cell_type": "code",
      "source": [
        "order"
      ],
      "metadata": {
        "colab": {
          "base_uri": "https://localhost:8080/"
        },
        "id": "PesR6r37Tlnm",
        "outputId": "8acdb067-ecf9-4828-e127-a71d841294ba"
      },
      "execution_count": 9,
      "outputs": [
        {
          "output_type": "execute_result",
          "data": {
            "text/plain": [
              "OrderedDict([('hey', '3'), ('hi', '1'), ('hello', '2')])"
            ]
          },
          "metadata": {},
          "execution_count": 9
        }
      ]
    },
    {
      "cell_type": "markdown",
      "source": [
        "06.Write a Python program to check order of character in string using OrderedDict()?"
      ],
      "metadata": {
        "id": "VDceW-7aufeV"
      }
    },
    {
      "cell_type": "code",
      "source": [
        "from collections import OrderedDict\n",
        "\n",
        "def check_order(input ,pattern):\n",
        "  \"\"\"\n",
        "  This function is used \n",
        "  to print check order of  pattern \n",
        "  \"\"\"\n",
        "  a=OrderedDict.fromkeys(input)\n",
        "  print(a)#prints order of elements inserted\n",
        "  i=0\n",
        "  for k,v in a.items():\n",
        "    if k==pattern[i]:\n",
        "      i+=1\n",
        "    \n",
        "    if i==len(pattern)-1:\n",
        "      print(\"The order of pattern is maintained in string\")\n",
        "      return \n",
        "  \n",
        "  print(\"The order of pattern is not maintained in string\")\n",
        "      \n",
        "\n",
        "\n",
        "\n",
        "input = 'engineering'\n",
        "pattern = 'gi'\n",
        "check_order(input,pattern)"
      ],
      "metadata": {
        "colab": {
          "base_uri": "https://localhost:8080/"
        },
        "id": "sxO9gCFFufBB",
        "outputId": "f0f4d107-0c97-4575-b5f1-35f143d36745"
      },
      "execution_count": 17,
      "outputs": [
        {
          "output_type": "stream",
          "name": "stdout",
          "text": [
            "OrderedDict([('e', None), ('n', None), ('g', None), ('i', None), ('r', None)])\n",
            "The order of pattern is maintained in string\n"
          ]
        }
      ]
    },
    {
      "cell_type": "markdown",
      "source": [
        "07.Write a Python program to sort Python Dictionaries by Key or Value?"
      ],
      "metadata": {
        "id": "t1tnC0t6tIyi"
      }
    },
    {
      "cell_type": "code",
      "source": [
        "a={1:2,4:3,10:11,7:9}\n",
        "print(\"Sort by keys\")\n",
        "print(dict(sorted(a.items(),key=lambda x:x[0])))"
      ],
      "metadata": {
        "colab": {
          "base_uri": "https://localhost:8080/"
        },
        "id": "GbRQH6_ptJ-i",
        "outputId": "a7f6a135-2fcc-4507-ff65-cce04e42e85b"
      },
      "execution_count": 24,
      "outputs": [
        {
          "output_type": "stream",
          "name": "stdout",
          "text": [
            "Sort by keys\n",
            "{1: 2, 4: 3, 7: 9, 10: 11}\n"
          ]
        }
      ]
    },
    {
      "cell_type": "code",
      "source": [
        "a={1:2,4:3,10:11,7:9}\n",
        "print(\"Sort by values\")\n",
        "print(dict(sorted(a.items(),key=lambda x:x[1])))"
      ],
      "metadata": {
        "colab": {
          "base_uri": "https://localhost:8080/"
        },
        "id": "DdpCd-WStbJc",
        "outputId": "6f226261-eb17-4d9c-ce52-f6e848758249"
      },
      "execution_count": 25,
      "outputs": [
        {
          "output_type": "stream",
          "name": "stdout",
          "text": [
            "Sort by values\n",
            "{1: 2, 4: 3, 7: 9, 10: 11}\n"
          ]
        }
      ]
    }
  ]
}