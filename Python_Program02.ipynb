{
  "nbformat": 4,
  "nbformat_minor": 0,
  "metadata": {
    "colab": {
      "name": "Python_Program02.ipynb",
      "provenance": [],
      "authorship_tag": "ABX9TyNfC8urWJQibjwlcqNzuJQJ",
      "include_colab_link": true
    },
    "kernelspec": {
      "name": "python3",
      "display_name": "Python 3"
    },
    "language_info": {
      "name": "python"
    }
  },
  "cells": [
    {
      "cell_type": "markdown",
      "metadata": {
        "id": "view-in-github",
        "colab_type": "text"
      },
      "source": [
        "<a href=\"https://colab.research.google.com/github/Ragavendhra-Ramanan/Python_Programs/blob/main/Python_Program02.ipynb\" target=\"_parent\"><img src=\"https://colab.research.google.com/assets/colab-badge.svg\" alt=\"Open In Colab\"/></a>"
      ]
    },
    {
      "cell_type": "markdown",
      "source": [
        "01.Write a Python program to convert kilometers to miles?"
      ],
      "metadata": {
        "id": "A5szcqFwagMQ"
      }
    },
    {
      "cell_type": "code",
      "execution_count": 1,
      "metadata": {
        "id": "aGjd0k4PaFcZ"
      },
      "outputs": [],
      "source": [
        "def convert_to_miles(km):\n",
        "  \"\"\"\n",
        "  convert kilometers to miles\n",
        "  \"\"\"\n",
        "  fac = 0.621371\n",
        "  return km*fac"
      ]
    },
    {
      "cell_type": "code",
      "source": [
        "convert_to_miles(100)"
      ],
      "metadata": {
        "colab": {
          "base_uri": "https://localhost:8080/"
        },
        "id": "TRH6YQAJawQe",
        "outputId": "7c8329f4-1c3e-44ff-80a4-3ad9c86640fc"
      },
      "execution_count": 2,
      "outputs": [
        {
          "output_type": "execute_result",
          "data": {
            "text/plain": [
              "62.137100000000004"
            ]
          },
          "metadata": {},
          "execution_count": 2
        }
      ]
    },
    {
      "cell_type": "markdown",
      "source": [
        "02.Write a Python program to convert Celsius to Fahrenheit?"
      ],
      "metadata": {
        "id": "132R-R7ja2OU"
      }
    },
    {
      "cell_type": "code",
      "source": [
        "def convert_to_fahrenheit():\n",
        "  \"\"\"\n",
        "  program to convert Celsius to Fahrenheit\n",
        "  \"\"\"\n",
        "  celsius=int(input(\"Enter the celsius value \"))\n",
        "  fahrenheit = (celsius * 9 / 5) + 32;\n",
        "  print(\"Fahrenheit value is\",fahrenheit)"
      ],
      "metadata": {
        "id": "f3qJ3Haeay9z"
      },
      "execution_count": 5,
      "outputs": []
    },
    {
      "cell_type": "code",
      "source": [
        "convert_to_fahrenheit()"
      ],
      "metadata": {
        "colab": {
          "base_uri": "https://localhost:8080/"
        },
        "id": "5wf0DKnfbQtF",
        "outputId": "5861ade3-eb73-44ee-fe60-8e3ca3d48ac6"
      },
      "execution_count": 6,
      "outputs": [
        {
          "output_type": "stream",
          "name": "stdout",
          "text": [
            "Enter the celsius value 33\n",
            "Fahrenheit value is 91.4\n"
          ]
        }
      ]
    },
    {
      "cell_type": "markdown",
      "source": [
        "03.Write a Python program to display calendar?"
      ],
      "metadata": {
        "id": "R0ThBhDsbfzG"
      }
    },
    {
      "cell_type": "code",
      "source": [
        "import calendar\n",
        "\n",
        "year=int(input(\"Enter the year \"))\n",
        "month=int(input(\"Enter the month \"))\n",
        "\n",
        "print(calendar.month(year,month))"
      ],
      "metadata": {
        "colab": {
          "base_uri": "https://localhost:8080/"
        },
        "id": "vGezkrE1bS5Z",
        "outputId": "5961141e-8b34-41eb-8900-9efa6d91330c"
      },
      "execution_count": 9,
      "outputs": [
        {
          "output_type": "stream",
          "name": "stdout",
          "text": [
            "Enter the year 2022\n",
            "Enter the month 08\n",
            "    August 2022\n",
            "Mo Tu We Th Fr Sa Su\n",
            " 1  2  3  4  5  6  7\n",
            " 8  9 10 11 12 13 14\n",
            "15 16 17 18 19 20 21\n",
            "22 23 24 25 26 27 28\n",
            "29 30 31\n",
            "\n"
          ]
        }
      ]
    },
    {
      "cell_type": "markdown",
      "source": [
        "04.Write a Python program to solve quadratic equation?"
      ],
      "metadata": {
        "id": "Z-fKRVZXcP1X"
      }
    },
    {
      "cell_type": "code",
      "source": [
        "import cmath\n",
        "from cmath import sqrt\n",
        "a=int(input(\"Enter value of A \"))\n",
        "b=int(input(\"Enter value of B \"))\n",
        "c=int(input(\"Enter the value of C \"))\n",
        "\n",
        "d=(b*b)-(4*a*c)\n",
        "\n",
        "root1=(-b+sqrt(d))/(2*a)\n",
        "root2=(-b-sqrt(d))/(2*a)\n",
        "\n",
        "print(\"roots are \",(root1,root2))\n",
        "\n",
        "\n",
        "\n"
      ],
      "metadata": {
        "colab": {
          "base_uri": "https://localhost:8080/"
        },
        "id": "-PhM_3pPb03_",
        "outputId": "56af88ba-a514-47f8-8d81-2a877e64654c"
      },
      "execution_count": 11,
      "outputs": [
        {
          "output_type": "stream",
          "name": "stdout",
          "text": [
            "Enter value of A 1\n",
            "Enter value of B 4\n",
            "Enter the value of C 2\n",
            "roots are  ((-0.5857864376269049+0j), (-3.414213562373095+0j))\n"
          ]
        }
      ]
    },
    {
      "cell_type": "markdown",
      "source": [
        "05.Write a Python program to swap two variables without temp variable?"
      ],
      "metadata": {
        "id": "Av4Od0TLd_b_"
      }
    },
    {
      "cell_type": "code",
      "source": [
        "def swap(a,b):\n",
        " \"\"\"\n",
        " Swap without temp variable\n",
        " \"\"\"\n",
        " a^=b\n",
        " b^=a\n",
        " a^=b\n",
        " return a,b"
      ],
      "metadata": {
        "id": "Z6QdwF6Cd-4h"
      },
      "execution_count": 12,
      "outputs": []
    },
    {
      "cell_type": "code",
      "source": [
        "swap(10,12)"
      ],
      "metadata": {
        "colab": {
          "base_uri": "https://localhost:8080/"
        },
        "id": "MRdBjh42drYu",
        "outputId": "ac1c7177-b889-4398-8751-7ce26b1d7734"
      },
      "execution_count": 13,
      "outputs": [
        {
          "output_type": "execute_result",
          "data": {
            "text/plain": [
              "(12, 10)"
            ]
          },
          "metadata": {},
          "execution_count": 13
        }
      ]
    }
  ]
}