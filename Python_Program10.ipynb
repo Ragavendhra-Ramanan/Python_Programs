{
  "nbformat": 4,
  "nbformat_minor": 0,
  "metadata": {
    "colab": {
      "name": "Python_Program10.ipynb",
      "provenance": [],
      "authorship_tag": "ABX9TyN/p9OG5CRd4vJu0WRHuMpz",
      "include_colab_link": true
    },
    "kernelspec": {
      "name": "python3",
      "display_name": "Python 3"
    },
    "language_info": {
      "name": "python"
    }
  },
  "cells": [
    {
      "cell_type": "markdown",
      "metadata": {
        "id": "view-in-github",
        "colab_type": "text"
      },
      "source": [
        "<a href=\"https://colab.research.google.com/github/Ragavendhra-Ramanan/Python_Programs/blob/main/Python_Program10.ipynb\" target=\"_parent\"><img src=\"https://colab.research.google.com/assets/colab-badge.svg\" alt=\"Open In Colab\"/></a>"
      ]
    },
    {
      "cell_type": "markdown",
      "source": [
        "01.Write a Python program to find sum of elements in list?"
      ],
      "metadata": {
        "id": "r0EYNjOC3h-w"
      }
    },
    {
      "cell_type": "code",
      "execution_count": 5,
      "metadata": {
        "id": "B__voQfb3eYp"
      },
      "outputs": [],
      "source": [
        "def sum_list(a):\n",
        "  \"\"\"\n",
        "  This function is used to get\n",
        "  sum of all elements in a list\n",
        "  \"\"\"\n",
        "  import functools\n",
        "  from functools import reduce\n",
        "  return reduce(lambda x,y:x+y,a)"
      ]
    },
    {
      "cell_type": "code",
      "source": [
        "sum_list([1,2,3,5,9])"
      ],
      "metadata": {
        "colab": {
          "base_uri": "https://localhost:8080/"
        },
        "id": "Qwv3--HE4BhD",
        "outputId": "936744fe-d3b0-4467-f6d5-6aec0ecb22de"
      },
      "execution_count": 6,
      "outputs": [
        {
          "output_type": "execute_result",
          "data": {
            "text/plain": [
              "20"
            ]
          },
          "metadata": {},
          "execution_count": 6
        }
      ]
    },
    {
      "cell_type": "markdown",
      "source": [
        "02.Write a Python program to find product of elements in list?"
      ],
      "metadata": {
        "id": "T93a76c04W4o"
      }
    },
    {
      "cell_type": "code",
      "source": [
        "def prod_list(a):\n",
        "  \"\"\"\n",
        "  This function is used to get\n",
        "  product of all elements in a list\n",
        "  \"\"\"\n",
        "  \n",
        "  total=1\n",
        "  for i in range(len(a)):\n",
        "    total*=a[i]\n",
        "  return total"
      ],
      "metadata": {
        "id": "xyNmXvXw4Fxy"
      },
      "execution_count": 8,
      "outputs": []
    },
    {
      "cell_type": "code",
      "source": [
        "prod_list([1,2,3,4])"
      ],
      "metadata": {
        "colab": {
          "base_uri": "https://localhost:8080/"
        },
        "id": "-4B-Du324roP",
        "outputId": "612f71b9-b8e9-46a2-fa54-d78ac462a377"
      },
      "execution_count": 9,
      "outputs": [
        {
          "output_type": "execute_result",
          "data": {
            "text/plain": [
              "24"
            ]
          },
          "metadata": {},
          "execution_count": 9
        }
      ]
    },
    {
      "cell_type": "markdown",
      "source": [
        "03.Write a Python program to find smallest number in a list?"
      ],
      "metadata": {
        "id": "6Mp6A3Hy4w9f"
      }
    },
    {
      "cell_type": "code",
      "source": [
        "def small(arr):\n",
        "  \"\"\"\n",
        "  This function is used to get \n",
        "  smallest number in a list \n",
        "  \"\"\"\n",
        "\n",
        "  arr.sort()\n",
        "  return arr[0]"
      ],
      "metadata": {
        "id": "nKOBm6l04vtc"
      },
      "execution_count": 11,
      "outputs": []
    },
    {
      "cell_type": "code",
      "source": [
        "small([1,2,3,44,5,-4])"
      ],
      "metadata": {
        "colab": {
          "base_uri": "https://localhost:8080/"
        },
        "id": "Kkv2Ter25tOG",
        "outputId": "7e09c61d-ae65-4956-c285-88727df891c5"
      },
      "execution_count": 13,
      "outputs": [
        {
          "output_type": "execute_result",
          "data": {
            "text/plain": [
              "-4"
            ]
          },
          "metadata": {},
          "execution_count": 13
        }
      ]
    },
    {
      "cell_type": "markdown",
      "source": [
        "04.Write a Python program to find largest number in a list?"
      ],
      "metadata": {
        "id": "MONlEfyA6NHl"
      }
    },
    {
      "cell_type": "code",
      "source": [
        "def large(arr):\n",
        "  \"\"\"\n",
        "  This function is used to get \n",
        "  largest number in a list \n",
        "  \"\"\"\n",
        "  return max(arr)"
      ],
      "metadata": {
        "id": "FVVbtNk96LAn"
      },
      "execution_count": 14,
      "outputs": []
    },
    {
      "cell_type": "code",
      "source": [
        "large([1,2,5,11,9,8])"
      ],
      "metadata": {
        "colab": {
          "base_uri": "https://localhost:8080/"
        },
        "id": "9Sdsktll6XkM",
        "outputId": "672417f0-2bf4-4cf8-ccd0-73974163ede7"
      },
      "execution_count": 15,
      "outputs": [
        {
          "output_type": "execute_result",
          "data": {
            "text/plain": [
              "11"
            ]
          },
          "metadata": {},
          "execution_count": 15
        }
      ]
    },
    {
      "cell_type": "markdown",
      "source": [
        "05.Write a Python program to find second largest number in a list?"
      ],
      "metadata": {
        "id": "UjXg_CgY6cT4"
      }
    },
    {
      "cell_type": "code",
      "source": [
        "def second_large(arr):\n",
        "  \"\"\"\n",
        "  This function is used to get \n",
        "  second largest number in a list \n",
        "  \"\"\"\n",
        "  l=arr[0]\n",
        "  s_l=arr[0]\n",
        "\n",
        "  for i in range(1,len(arr)):\n",
        "    if l<arr[i]:\n",
        "      s_l=l\n",
        "      l=arr[i]\n",
        "    elif s_l<arr[i] and l!=arr[i]:\n",
        "      s_l=arr[i]\n",
        "    elif l==s_l and l!=arr[i]:\n",
        "      s_l=arr[i]\n",
        "\n",
        "  print(\"The Second Largest number is {}\".format(s_l))"
      ],
      "metadata": {
        "id": "dvxkKv8l6bCJ"
      },
      "execution_count": 25,
      "outputs": []
    },
    {
      "cell_type": "code",
      "source": [
        "second_large([1,4,3,8,11,9])"
      ],
      "metadata": {
        "colab": {
          "base_uri": "https://localhost:8080/"
        },
        "id": "tLbn16fn7u4o",
        "outputId": "04cc5d8e-28b5-4b22-a0fc-6473b5ff2d5c"
      },
      "execution_count": 26,
      "outputs": [
        {
          "output_type": "stream",
          "name": "stdout",
          "text": [
            "The Second Largest number is 9\n"
          ]
        }
      ]
    },
    {
      "cell_type": "code",
      "source": [
        "second_large([10, 20, 4, 45, 99])"
      ],
      "metadata": {
        "colab": {
          "base_uri": "https://localhost:8080/"
        },
        "id": "NuR7oeR87zs2",
        "outputId": "1148b2b2-ab47-408e-eb83-f999e4894908"
      },
      "execution_count": 27,
      "outputs": [
        {
          "output_type": "stream",
          "name": "stdout",
          "text": [
            "The Second Largest number is 45\n"
          ]
        }
      ]
    },
    {
      "cell_type": "markdown",
      "source": [
        "06.Write a Python program to find N largest elements from a list?"
      ],
      "metadata": {
        "id": "TjGi4eRP8tC3"
      }
    },
    {
      "cell_type": "code",
      "source": [
        "def n_large(arr,n):\n",
        "  \"\"\"\n",
        "  This function prints\n",
        "  n largest elements\n",
        "  \"\"\"\n",
        "  arr.sort(reverse=True)\n",
        "  print(\"{} largest elements are\".format(n))\n",
        "  return arr[:n]\n"
      ],
      "metadata": {
        "id": "NKS7-awh8rZf"
      },
      "execution_count": 33,
      "outputs": []
    },
    {
      "cell_type": "code",
      "source": [
        "n_large([1,3,2,10,111,33,77],4)"
      ],
      "metadata": {
        "colab": {
          "base_uri": "https://localhost:8080/"
        },
        "id": "zzp1fN3K9Ach",
        "outputId": "5dd58493-5d0e-47f3-c926-9365f2e0fcf7"
      },
      "execution_count": 34,
      "outputs": [
        {
          "output_type": "stream",
          "name": "stdout",
          "text": [
            "4 largest elements are\n"
          ]
        },
        {
          "output_type": "execute_result",
          "data": {
            "text/plain": [
              "[111, 77, 33, 10]"
            ]
          },
          "metadata": {},
          "execution_count": 34
        }
      ]
    },
    {
      "cell_type": "markdown",
      "source": [
        "07.Write a Python program to print even numbers in a list?"
      ],
      "metadata": {
        "id": "RxR57w8V9Sm4"
      }
    },
    {
      "cell_type": "code",
      "source": [
        "def even(arr):\n",
        "  \"\"\"\n",
        "  This function prints\n",
        "  even numbers in a array\n",
        "  \"\"\"\n",
        "  return [arr[i] for i in range(len(arr)) if arr[i]%2==0]"
      ],
      "metadata": {
        "id": "595SqhAZ9Gkc"
      },
      "execution_count": 37,
      "outputs": []
    },
    {
      "cell_type": "code",
      "source": [
        "even([1,4,8,11,13,99,100])"
      ],
      "metadata": {
        "colab": {
          "base_uri": "https://localhost:8080/"
        },
        "id": "HijVZmlh9jDl",
        "outputId": "017e2d0f-0e4e-4ec7-b66f-88fd26abd378"
      },
      "execution_count": 38,
      "outputs": [
        {
          "output_type": "execute_result",
          "data": {
            "text/plain": [
              "[4, 8, 100]"
            ]
          },
          "metadata": {},
          "execution_count": 38
        }
      ]
    },
    {
      "cell_type": "markdown",
      "source": [
        "08.Write a Python program to print odd numbers in a List?"
      ],
      "metadata": {
        "id": "KlR5zjW19tc_"
      }
    },
    {
      "cell_type": "code",
      "source": [
        "def odd(arr):\n",
        "  \"\"\"\n",
        "  This function prints\n",
        "  odd numbers in a array\n",
        "  \"\"\"\n",
        "  return list(filter(lambda x:x%2!=0,arr))"
      ],
      "metadata": {
        "id": "cg2fdgqM9mVj"
      },
      "execution_count": 39,
      "outputs": []
    },
    {
      "cell_type": "code",
      "source": [
        "odd([1,4,8,11,13,99,100])"
      ],
      "metadata": {
        "colab": {
          "base_uri": "https://localhost:8080/"
        },
        "id": "_I2HO6oe94uC",
        "outputId": "dadb8d5d-549e-42cb-91b6-bdc0a054cb34"
      },
      "execution_count": 40,
      "outputs": [
        {
          "output_type": "execute_result",
          "data": {
            "text/plain": [
              "[1, 11, 13, 99]"
            ]
          },
          "metadata": {},
          "execution_count": 40
        }
      ]
    },
    {
      "cell_type": "markdown",
      "source": [
        "09.Write a Python program to Remove empty List from List?"
      ],
      "metadata": {
        "id": "tKpct7Tv99YE"
      }
    },
    {
      "cell_type": "code",
      "source": [
        "def remove(arr):\n",
        "  \"\"\"\n",
        "  This function removes\n",
        "  empty list from list\n",
        "  \"\"\"\n",
        "\n",
        "  return [arr[i] for i in range(len(arr)) if arr[i]!=[]]"
      ],
      "metadata": {
        "id": "8wsqMjnP98jD"
      },
      "execution_count": 41,
      "outputs": []
    },
    {
      "cell_type": "code",
      "source": [
        "remove([5, 6, [], 3, [], [], 9])"
      ],
      "metadata": {
        "colab": {
          "base_uri": "https://localhost:8080/"
        },
        "id": "Pr2nj6lV-K04",
        "outputId": "c30b7ad9-26c2-4712-d440-3b585c7528ea"
      },
      "execution_count": 42,
      "outputs": [
        {
          "output_type": "execute_result",
          "data": {
            "text/plain": [
              "[5, 6, 3, 9]"
            ]
          },
          "metadata": {},
          "execution_count": 42
        }
      ]
    },
    {
      "cell_type": "markdown",
      "source": [
        "10.Write a Python program to Cloning or Copying a list?"
      ],
      "metadata": {
        "id": "X2wJRiPN-dXX"
      }
    },
    {
      "cell_type": "code",
      "source": [
        "import copy\n",
        "\n",
        "arr=[1,4,2,10]\n",
        "#shallow copy \n",
        "ans=copy.copy(arr)"
      ],
      "metadata": {
        "id": "A-fKPuFO-cc4"
      },
      "execution_count": 43,
      "outputs": []
    },
    {
      "cell_type": "code",
      "source": [
        "ans"
      ],
      "metadata": {
        "colab": {
          "base_uri": "https://localhost:8080/"
        },
        "id": "L5X-XF5c_CBu",
        "outputId": "8a356b07-8a51-47e9-c149-47e603d374f0"
      },
      "execution_count": 44,
      "outputs": [
        {
          "output_type": "execute_result",
          "data": {
            "text/plain": [
              "[1, 4, 2, 10]"
            ]
          },
          "metadata": {},
          "execution_count": 44
        }
      ]
    },
    {
      "cell_type": "markdown",
      "source": [
        "11.Write a Python program to Count occurrences of an element in a list?"
      ],
      "metadata": {
        "id": "Wv0a1XQ2_7Nt"
      }
    },
    {
      "cell_type": "code",
      "source": [
        "arr=[1,3,4,1,3,11,10,3,0,3,-3]\n",
        "n=int(input(\"Enter the number \"))\n",
        "print(\"The count of {} in list is {}\".format(n,arr.count(n)))"
      ],
      "metadata": {
        "colab": {
          "base_uri": "https://localhost:8080/"
        },
        "id": "ylru7clv_9SM",
        "outputId": "90401587-6195-49e5-f5f4-c458b937681b"
      },
      "execution_count": 56,
      "outputs": [
        {
          "output_type": "stream",
          "name": "stdout",
          "text": [
            "Enter the number 3\n",
            "The count of 3 in list is 4\n"
          ]
        }
      ]
    }
  ]
}