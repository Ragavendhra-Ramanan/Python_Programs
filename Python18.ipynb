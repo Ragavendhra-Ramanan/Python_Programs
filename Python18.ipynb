{
  "nbformat": 4,
  "nbformat_minor": 0,
  "metadata": {
    "colab": {
      "provenance": [],
      "authorship_tag": "ABX9TyMw8VsEHauVgd5S2TEAP3z3",
      "include_colab_link": true
    },
    "kernelspec": {
      "name": "python3",
      "display_name": "Python 3"
    },
    "language_info": {
      "name": "python"
    }
  },
  "cells": [
    {
      "cell_type": "markdown",
      "metadata": {
        "id": "view-in-github",
        "colab_type": "text"
      },
      "source": [
        "<a href=\"https://colab.research.google.com/github/Ragavendhra-Ramanan/Python_Programs/blob/main/Python18.ipynb\" target=\"_parent\"><img src=\"https://colab.research.google.com/assets/colab-badge.svg\" alt=\"Open In Colab\"/></a>"
      ]
    },
    {
      "cell_type": "markdown",
      "source": [
        "Question 1\n",
        "Create a function that takes a list of non-negative integers and strings and return a new list\n",
        "without the strings.\n",
        "Examples\n",
        "filter_list([1, 2, &quot;a&quot;, &quot;b&quot;]) ➞ [1, 2]\n",
        "filter_list([1, &quot;a&quot;, &quot;b&quot;, 0, 15]) ➞ [1, 0, 15]\n",
        "filter_list([1, 2, &quot;aasf&quot;, &quot;1&quot;, &quot;123&quot;, 123]) ➞ [1, 2, 123]"
      ],
      "metadata": {
        "id": "DurjWRKYZOtb"
      }
    },
    {
      "cell_type": "code",
      "execution_count": 5,
      "metadata": {
        "id": "wPOAvD9nZE1I"
      },
      "outputs": [],
      "source": [
        "def filter_list(a):\n",
        "  \"\"\"\n",
        "  returns new list without strings\n",
        "  \"\"\"\n",
        "  answer=[]\n",
        "  for i in a:\n",
        "    if type(i)==int:\n",
        "      answer.append(i)\n",
        "  return answer\n"
      ]
    },
    {
      "cell_type": "code",
      "source": [
        "filter_list([1, 2, \"aasf\", \"1\", \"123\", 123]) "
      ],
      "metadata": {
        "colab": {
          "base_uri": "https://localhost:8080/"
        },
        "id": "_i7ujVbpaSAE",
        "outputId": "099baf4d-a101-4a0b-e558-920c7369d836"
      },
      "execution_count": 6,
      "outputs": [
        {
          "output_type": "execute_result",
          "data": {
            "text/plain": [
              "[1, 2, 123]"
            ]
          },
          "metadata": {},
          "execution_count": 6
        }
      ]
    },
    {
      "cell_type": "markdown",
      "source": [
        "Question 2\n",
        "The &quot;Reverser&quot; takes a string as input and returns that string in reverse order, with the\n",
        "opposite case.\n",
        "Examples\n",
        "reverse(&quot;Hello World&quot;) ➞ &quot;DLROw OLLEh&quot;\n",
        "reverse(&quot;ReVeRsE&quot;) ➞ &quot;eSrEvEr&quot;\n",
        "reverse(&quot;Radar&quot;) ➞ &quot;RADAr&quot;"
      ],
      "metadata": {
        "id": "q1DfefSPapdc"
      }
    },
    {
      "cell_type": "code",
      "source": [
        "def reverse(a):\n",
        "  \"\"\"\n",
        "  reverses with opposite cases\n",
        "  \"\"\"\n",
        "  answer=list(reversed(a))\n",
        "  for i in range(len(answer)):\n",
        "    if answer[i].islower():\n",
        "      answer[i]=answer[i].upper()\n",
        "    else:\n",
        "      answer[i]=answer[i].lower()\n",
        "\n",
        "  return \"\".join(answer)\n",
        "  "
      ],
      "metadata": {
        "id": "fj79AXGzacF8"
      },
      "execution_count": 15,
      "outputs": []
    },
    {
      "cell_type": "code",
      "source": [
        "reverse(\"ReVeRsE\")"
      ],
      "metadata": {
        "colab": {
          "base_uri": "https://localhost:8080/",
          "height": 35
        },
        "id": "ja8T3K-rbMVZ",
        "outputId": "a5f672af-cc0d-453a-ecb6-7c818212f56c"
      },
      "execution_count": 17,
      "outputs": [
        {
          "output_type": "execute_result",
          "data": {
            "text/plain": [
              "'eSrEvEr'"
            ],
            "application/vnd.google.colaboratory.intrinsic+json": {
              "type": "string"
            }
          },
          "metadata": {},
          "execution_count": 17
        }
      ]
    },
    {
      "cell_type": "markdown",
      "source": [
        "With Python 3, you can assign variables from lists in a much more succinct way. Create\n",
        "variables first, middle and last from the given list using destructuring assignment\n",
        "(check the Resources tab for some examples), where:\n",
        "first ➞ 1\n",
        "middle ➞ [2, 3, 4, 5]\n",
        "last ➞ 6\n",
        "\n",
        "Your task is to unpack the list writeyourcodehere into three variables, being first,\n",
        "middle, and last, with middle being everything in between the first and last element. Then\n",
        "print all three variables."
      ],
      "metadata": {
        "id": "tJqFSZceb0T-"
      }
    },
    {
      "cell_type": "code",
      "source": [
        "def lst(a):\n",
        "  \"\"\"\n",
        "  prints the following first,middle and last\n",
        "  \"\"\"\n",
        "  first,*middle,last=a\n",
        "  print(first)\n",
        "  print(middle)\n",
        "  print(last)"
      ],
      "metadata": {
        "id": "C2h-O9NobOUk"
      },
      "execution_count": 21,
      "outputs": []
    },
    {
      "cell_type": "code",
      "source": [
        "lst([1, 2, 3, 4, 5, 6])"
      ],
      "metadata": {
        "colab": {
          "base_uri": "https://localhost:8080/"
        },
        "id": "wEhmGsauclKi",
        "outputId": "6544ff17-384b-477c-dd5e-45e5aa3ffd5e"
      },
      "execution_count": 22,
      "outputs": [
        {
          "output_type": "stream",
          "name": "stdout",
          "text": [
            "1\n",
            "[2, 3, 4, 5]\n",
            "6\n"
          ]
        }
      ]
    },
    {
      "cell_type": "markdown",
      "source": [
        "Question 4\n",
        "Write a function that calculates the factorial of a number recursively.\n",
        "Examples\n",
        "factorial(5) ➞ 120\n",
        "factorial(3) ➞ 6\n",
        "factorial(1) ➞ 1\n",
        "factorial(0) ➞ 1"
      ],
      "metadata": {
        "id": "R10x06Z-dUt1"
      }
    },
    {
      "cell_type": "code",
      "source": [
        "def factorial(a):\n",
        "  \"\"\"\n",
        "  returns factorial of a number\n",
        "  \"\"\"\n",
        "  if a==0 or a==1:\n",
        "    return 1\n",
        "  return a*factorial(a-1)"
      ],
      "metadata": {
        "id": "xOIU00yNcp1Z"
      },
      "execution_count": 23,
      "outputs": []
    },
    {
      "cell_type": "markdown",
      "source": [
        "Question 5\n",
        "Write a function that moves all elements of one type to the end of the list.\n",
        "Examples\n",
        "move_to_end([1, 3, 2, 4, 4, 1], 1) ➞ [3, 2, 4, 4, 1, 1]\n",
        "# Move all the 1s to the end of the array.\n",
        "move_to_end([7, 8, 9, 1, 2, 3, 4], 9) ➞ [7, 8, 1, 2, 3, 4, 9]\n",
        "move_to_end([&quot;a&quot;, &quot;a&quot;, &quot;a&quot;, &quot;b&quot;], &quot;a&quot;) ➞ [&quot;b&quot;, &quot;a&quot;, &quot;a&quot;, &quot;a&quot;]"
      ],
      "metadata": {
        "id": "39wCfI3ZdmBO"
      }
    },
    {
      "cell_type": "code",
      "source": [
        "def move_to_end(a,b):\n",
        "  \"\"\"\n",
        "  if b in list move it to end\n",
        "  \"\"\"\n",
        "  \n",
        "  old=0\n",
        "  for i in range(len(a)):\n",
        "    if a[i]!=b:\n",
        "      tmp=a[i]\n",
        "      a[i]=a[old]\n",
        "      a[old]=tmp\n",
        "      old+=1\n",
        "  return a\n",
        "\n",
        "    \n",
        "      \n"
      ],
      "metadata": {
        "id": "fScNIqthdlae"
      },
      "execution_count": 26,
      "outputs": []
    },
    {
      "cell_type": "code",
      "source": [
        "move_to_end([7, 8, 9, 1, 2, 3, 4], 9) "
      ],
      "metadata": {
        "colab": {
          "base_uri": "https://localhost:8080/"
        },
        "id": "6HtysIqzfMcq",
        "outputId": "e7cfef79-f056-401f-8e2b-cbb0843c180a"
      },
      "execution_count": 27,
      "outputs": [
        {
          "output_type": "execute_result",
          "data": {
            "text/plain": [
              "[7, 8, 1, 2, 3, 4, 9]"
            ]
          },
          "metadata": {},
          "execution_count": 27
        }
      ]
    },
    {
      "cell_type": "code",
      "source": [
        "move_to_end([1, 3, 2, 4, 4, 1], 1)"
      ],
      "metadata": {
        "colab": {
          "base_uri": "https://localhost:8080/"
        },
        "id": "Dy5VK2s8f9Cg",
        "outputId": "0875e068-659b-4348-ee43-6efe5a4e0b6b"
      },
      "execution_count": 28,
      "outputs": [
        {
          "output_type": "execute_result",
          "data": {
            "text/plain": [
              "[3, 2, 4, 4, 1, 1]"
            ]
          },
          "metadata": {},
          "execution_count": 28
        }
      ]
    },
    {
      "cell_type": "code",
      "source": [
        "move_to_end([\"a\", \"a\", \"a\", \"b\"], \"a\") "
      ],
      "metadata": {
        "colab": {
          "base_uri": "https://localhost:8080/"
        },
        "id": "QgRfNMRTgAvB",
        "outputId": "952d6dcf-4e23-4853-a5f2-01101d4ed4b5"
      },
      "execution_count": 29,
      "outputs": [
        {
          "output_type": "execute_result",
          "data": {
            "text/plain": [
              "['b', 'a', 'a', 'a']"
            ]
          },
          "metadata": {},
          "execution_count": 29
        }
      ]
    }
  ]
}