{
  "nbformat": 4,
  "nbformat_minor": 0,
  "metadata": {
    "colab": {
      "name": "PythonProgram14.ipynb",
      "provenance": [],
      "authorship_tag": "ABX9TyPSAdRDicDCIFxpiU190F+U",
      "include_colab_link": true
    },
    "kernelspec": {
      "name": "python3",
      "display_name": "Python 3"
    },
    "language_info": {
      "name": "python"
    }
  },
  "cells": [
    {
      "cell_type": "markdown",
      "metadata": {
        "id": "view-in-github",
        "colab_type": "text"
      },
      "source": [
        "<a href=\"https://colab.research.google.com/github/Ragavendhra-Ramanan/Python_Programs/blob/main/PythonProgram14.ipynb\" target=\"_parent\"><img src=\"https://colab.research.google.com/assets/colab-badge.svg\" alt=\"Open In Colab\"/></a>"
      ]
    },
    {
      "cell_type": "markdown",
      "source": [
        "Question 1:\n",
        "* \n",
        "Define a class with a generator which can iterate the numbers, which are divisible by\n",
        "7, between a given range 0 and n."
      ],
      "metadata": {
        "id": "Oq0tuNbvFKHL"
      }
    },
    {
      "cell_type": "code",
      "execution_count": null,
      "metadata": {
        "colab": {
          "base_uri": "https://localhost:8080/"
        },
        "id": "zNhWPWl9FElq",
        "outputId": "48d5abeb-16c6-4d20-900a-5b1c6691f6a9"
      },
      "outputs": [
        {
          "output_type": "stream",
          "name": "stdout",
          "text": [
            "0\n",
            "7\n",
            "14\n",
            "21\n",
            "28\n"
          ]
        }
      ],
      "source": [
        "class Divi:\n",
        "\n",
        "  def __init__(self,n):\n",
        "    self.n=n\n",
        "\n",
        "  def seven(self):\n",
        "    for i in range(self.n):\n",
        "      if i%7==0:\n",
        "        yield(i)\n",
        "\n",
        "\n",
        "obj=Divi(30)\n",
        "ans=obj.seven()\n",
        "for i in ans:\n",
        "  print(i)"
      ]
    },
    {
      "cell_type": "markdown",
      "source": [
        "Question 2:\n",
        "* \n",
        "Write a program to compute the frequency of the words from the input. The output\n",
        "should output after sorting the key alphanumerically.\n",
        "Suppose the following input is supplied to the program:\n",
        "New to Python or choosing between Python 2 and Python 3? Read Python 2 or\n",
        "Python 3.\n",
        "Then, the output should be:\n",
        "* \n",
        "2:2 3.:1\n",
        "3?:1\n",
        "New:1\n",
        "Python:5\n",
        "Read:1\n",
        "and:1\n",
        "between:1\n",
        "choosing:1\n",
        "or:2\n",
        "to:1"
      ],
      "metadata": {
        "id": "SCh1EgA5GB0j"
      }
    },
    {
      "cell_type": "code",
      "source": [
        "def sort():\n",
        "\n",
        "  ans=input(\"Enter the words \")\n",
        "  b=ans.split(\" \")\n",
        "  c={}\n",
        "  for i in b:\n",
        "    c[i]=c.get(i,0)+1\n",
        "  \n",
        "  d=dict(sorted(c.items(),key=lambda x:x[0]))\n",
        "  return d\n",
        "\n",
        "sort()"
      ],
      "metadata": {
        "colab": {
          "base_uri": "https://localhost:8080/"
        },
        "id": "70bPlL2dGBSc",
        "outputId": "ef5afd6b-f241-4e82-ac15-d12f64a50da9"
      },
      "execution_count": null,
      "outputs": [
        {
          "name": "stdout",
          "output_type": "stream",
          "text": [
            "Enter the words New to Python or choosing between Python 2 and Python 3? Read Python 2 or Python 3\n"
          ]
        },
        {
          "output_type": "execute_result",
          "data": {
            "text/plain": [
              "{'2': 2,\n",
              " '3': 1,\n",
              " '3?': 1,\n",
              " 'New': 1,\n",
              " 'Python': 5,\n",
              " 'Read': 1,\n",
              " 'and': 1,\n",
              " 'between': 1,\n",
              " 'choosing': 1,\n",
              " 'or': 2,\n",
              " 'to': 1}"
            ]
          },
          "metadata": {},
          "execution_count": 10
        }
      ]
    },
    {
      "cell_type": "markdown",
      "source": [
        "Question 3:\n",
        "* \n",
        "Define a class Person and its two child classes: Male and Female. All classes have a\n",
        "method &quot;getGender&quot; which can print &quot;Male&quot; for Male class and &quot;Female&quot; for Female\n",
        "class."
      ],
      "metadata": {
        "id": "JdWMlCqPGRSo"
      }
    },
    {
      "cell_type": "code",
      "source": [
        "class Person:\n",
        "  \n",
        "\n",
        "  def getGender(self):\n",
        "    print(\"not known\")\n",
        "  \n",
        "class Male(Person):\n",
        "   \n",
        "   def getGender(self):\n",
        "     print(\"Male\")\n",
        "\n",
        "class Female(Person):\n",
        "\n",
        "   def getGender(self):\n",
        "     print(\"Female\")\n",
        "\n",
        "male=Male()\n",
        "male.getGender()\n",
        "female=Female()\n",
        "female.getGender()"
      ],
      "metadata": {
        "colab": {
          "base_uri": "https://localhost:8080/"
        },
        "id": "IfoqE2I6GXXB",
        "outputId": "caafed5c-f1e4-4f6d-861c-6a3d79f35e7f"
      },
      "execution_count": null,
      "outputs": [
        {
          "output_type": "stream",
          "name": "stdout",
          "text": [
            "Male\n",
            "Female\n"
          ]
        }
      ]
    },
    {
      "cell_type": "markdown",
      "source": [
        "Question 4:\n",
        "* \n",
        "Please write a program to generate all sentences where subject is in [&quot;I&quot;, &quot;You&quot;] and\n",
        "verb is in [&quot;Play&quot;, &quot;Love&quot;] and the object is in [&quot;Hockey&quot;,&quot;Football&quot;]."
      ],
      "metadata": {
        "id": "MiwVAVTrFV23"
      }
    },
    {
      "cell_type": "code",
      "source": [
        "a=[\"I\",\"You\"]\n",
        "b=[\"Play\",\"Love\"]\n",
        "c=[\"Hoceky\",\"Football\"]\n",
        "\n",
        "for i in range(len(a)):\n",
        "  for j in range(len(b)):\n",
        "    for k in range(len(c)):\n",
        "      print(a[i]+\" \"+b[j]+\" \"+c[k])"
      ],
      "metadata": {
        "colab": {
          "base_uri": "https://localhost:8080/"
        },
        "id": "mCW7qM7JFXTu",
        "outputId": "196407f4-089c-4caf-f609-2e5b2acb649c"
      },
      "execution_count": null,
      "outputs": [
        {
          "output_type": "stream",
          "name": "stdout",
          "text": [
            "I Play Hoceky\n",
            "I Play Football\n",
            "I Love Hoceky\n",
            "I Love Football\n",
            "You Play Hoceky\n",
            "You Play Football\n",
            "You Love Hoceky\n",
            "You Love Football\n"
          ]
        }
      ]
    },
    {
      "cell_type": "markdown",
      "source": [
        "Question 5:\n",
        "* \n",
        "Please write a program to compress and decompress the string &quot;hello world!hello\n",
        "world!hello world!hello world!&quot;."
      ],
      "metadata": {
        "id": "mc70YMGPFuHR"
      }
    },
    {
      "cell_type": "code",
      "source": [
        "import gzip\n",
        "a=b'hello world!hello world!hello world!hello world!'\n",
        "b=gzip.compress(a)\n",
        "print(b)\n",
        "print(gzip.decompress(b))"
      ],
      "metadata": {
        "colab": {
          "base_uri": "https://localhost:8080/"
        },
        "id": "sgC2rPiXFwCw",
        "outputId": "f6c54d58-f6a4-4695-bc43-c5dc9b01eeb4"
      },
      "execution_count": 18,
      "outputs": [
        {
          "output_type": "stream",
          "name": "stdout",
          "text": [
            "b'\\x1f\\x8b\\x08\\x00\\xfbN\\x07c\\x02\\xff\\xcbH\\xcd\\xc9\\xc9W(\\xcf/\\xcaIQ\\xcc \\x82\\r\\x00\\xd3\\xe6\\xcf\\xae0\\x00\\x00\\x00'\n",
            "b'hello world!hello world!hello world!hello world!'\n"
          ]
        }
      ]
    },
    {
      "cell_type": "markdown",
      "source": [
        "Question 6:\n",
        "* \n",
        "Please write a binary search function which searches an item in a sorted list. The\n",
        "function should return the index of element to be searched in the list."
      ],
      "metadata": {
        "id": "O2RVfGvBFyO2"
      }
    },
    {
      "cell_type": "code",
      "source": [
        "def binary(values,item):\n",
        "  start=0\n",
        "  end=len(values)-1\n",
        "  while start<=end:\n",
        "    mid = (start+end)//2\n",
        "    if values[mid] == item:\n",
        "      return mid\n",
        "    elif values[mid]>item:\n",
        "      end=end-1\n",
        "    else:\n",
        "      start=start+1"
      ],
      "metadata": {
        "id": "7MYiLJJOGAIR"
      },
      "execution_count": 23,
      "outputs": []
    },
    {
      "cell_type": "code",
      "source": [
        "binary([1,3,4,7,10,33,44,100],33)"
      ],
      "metadata": {
        "colab": {
          "base_uri": "https://localhost:8080/"
        },
        "id": "32XAJSnaksHC",
        "outputId": "01250471-3187-4ba1-e8a0-e1742c92f74c"
      },
      "execution_count": 24,
      "outputs": [
        {
          "output_type": "execute_result",
          "data": {
            "text/plain": [
              "5"
            ]
          },
          "metadata": {},
          "execution_count": 24
        }
      ]
    },
    {
      "cell_type": "code",
      "source": [],
      "metadata": {
        "id": "VAtkU8hIkwY8"
      },
      "execution_count": null,
      "outputs": []
    }
  ]
}