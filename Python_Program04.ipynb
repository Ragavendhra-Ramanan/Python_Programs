{
  "nbformat": 4,
  "nbformat_minor": 0,
  "metadata": {
    "colab": {
      "name": "Python_Program04.ipynb",
      "provenance": [],
      "authorship_tag": "ABX9TyM7+eWwbAiUVfOOcwoX5FVs",
      "include_colab_link": true
    },
    "kernelspec": {
      "name": "python3",
      "display_name": "Python 3"
    },
    "language_info": {
      "name": "python"
    }
  },
  "cells": [
    {
      "cell_type": "markdown",
      "metadata": {
        "id": "view-in-github",
        "colab_type": "text"
      },
      "source": [
        "<a href=\"https://colab.research.google.com/github/Ragavendhra-Ramanan/Python_Programs/blob/main/Python_Program04.ipynb\" target=\"_parent\"><img src=\"https://colab.research.google.com/assets/colab-badge.svg\" alt=\"Open In Colab\"/></a>"
      ]
    },
    {
      "cell_type": "markdown",
      "source": [
        "01.Write a Python Program to Find the Factorial of a Number?"
      ],
      "metadata": {
        "id": "TgaNZO0WZnGi"
      }
    },
    {
      "cell_type": "code",
      "execution_count": 2,
      "metadata": {
        "id": "pqqPG6VkZjgA"
      },
      "outputs": [],
      "source": [
        "def factorial(a):\n",
        "  \"\"\"\n",
        "  This program prints \n",
        "  factorial of a number\n",
        "  \"\"\"\n",
        "  if(a==1):\n",
        "    return 1\n",
        "    \n",
        "  return a*factorial(a-1)"
      ]
    },
    {
      "cell_type": "code",
      "source": [
        "factorial(5)"
      ],
      "metadata": {
        "colab": {
          "base_uri": "https://localhost:8080/"
        },
        "id": "clEtQUAjaqFJ",
        "outputId": "dada2bcc-7185-4f63-e3b6-a6a223f430c6"
      },
      "execution_count": 4,
      "outputs": [
        {
          "output_type": "execute_result",
          "data": {
            "text/plain": [
              "120"
            ]
          },
          "metadata": {},
          "execution_count": 4
        }
      ]
    },
    {
      "cell_type": "markdown",
      "source": [
        "02.Write a Python Program to Display the multiplication Table?"
      ],
      "metadata": {
        "id": "5CQ_uwDnbe67"
      }
    },
    {
      "cell_type": "code",
      "source": [
        "def multiplication():\n",
        "  \"\"\"\n",
        "  This function prints multilication\n",
        "  table\n",
        "  \"\"\"\n",
        "  a=int(input(\"Enter the Number \"))\n",
        "  for i in range(1,11):\n",
        "    print(i,\"*\",a,\"=\",i*a)"
      ],
      "metadata": {
        "id": "HqnIU0ZubGnj"
      },
      "execution_count": 6,
      "outputs": []
    },
    {
      "cell_type": "code",
      "source": [
        "multiplication()"
      ],
      "metadata": {
        "colab": {
          "base_uri": "https://localhost:8080/"
        },
        "id": "sJKZHTkLdDvm",
        "outputId": "4d3f1c81-bae5-48dc-d659-4e56e651cd81"
      },
      "execution_count": 7,
      "outputs": [
        {
          "output_type": "stream",
          "name": "stdout",
          "text": [
            "Enter the Number 13\n",
            "1 * 13 = 13\n",
            "2 * 13 = 26\n",
            "3 * 13 = 39\n",
            "4 * 13 = 52\n",
            "5 * 13 = 65\n",
            "6 * 13 = 78\n",
            "7 * 13 = 91\n",
            "8 * 13 = 104\n",
            "9 * 13 = 117\n",
            "10 * 13 = 130\n"
          ]
        }
      ]
    },
    {
      "cell_type": "markdown",
      "source": [
        "03.Write a Python Program to Print the Fibonacci sequence?"
      ],
      "metadata": {
        "id": "4uXdqPkYdM8R"
      }
    },
    {
      "cell_type": "code",
      "source": [
        "def fibonacci(n):\n",
        "  \"\"\"\n",
        "  This function prints\n",
        "  fibonacci series\n",
        "  \"\"\"\n",
        "  if(n==1):\n",
        "    print(0)\n",
        "    return \n",
        "  if(n==2):\n",
        "    print(1)\n",
        "    return \n",
        "  print(0)\n",
        "  print(1)\n",
        "  n1=0\n",
        "  n2=1\n",
        "  count=2\n",
        "  while(count<n):\n",
        "    ans=n1+n2\n",
        "    print(ans)\n",
        "    n1=n2\n",
        "    n2=ans\n",
        "    count+=1"
      ],
      "metadata": {
        "id": "aae8cWisdHTX"
      },
      "execution_count": 16,
      "outputs": []
    },
    {
      "cell_type": "code",
      "source": [
        "fibonacci(7)"
      ],
      "metadata": {
        "colab": {
          "base_uri": "https://localhost:8080/"
        },
        "id": "mSKZBO0EeQUN",
        "outputId": "49172ca7-22a2-439e-ab79-28dfd0f1a744"
      },
      "execution_count": 17,
      "outputs": [
        {
          "output_type": "stream",
          "name": "stdout",
          "text": [
            "0\n",
            "1\n",
            "1\n",
            "2\n",
            "3\n",
            "5\n",
            "8\n"
          ]
        }
      ]
    },
    {
      "cell_type": "markdown",
      "source": [
        "04.Write a Python Program to Check Armstrong Number?"
      ],
      "metadata": {
        "id": "mWcuJzk9e5r6"
      }
    },
    {
      "cell_type": "code",
      "source": [
        "def armstrong():\n",
        "  \"\"\"\n",
        "  This function checks for armstrong number\n",
        "  \"\"\"\n",
        "  a=int(input(\"Enter the Number \"))\n",
        "  num=a\n",
        "  result=0\n",
        "  while(a>0):\n",
        "    result=result+(a%10)**3\n",
        "    a=a//10\n",
        "  \n",
        "  if(result==num):\n",
        "    print(\"{} is armstrong number\".format(num))\n",
        "  else:\n",
        "      print(\"{} is not a armstrong number\".format(num))\n"
      ],
      "metadata": {
        "id": "APIeDIANeStQ"
      },
      "execution_count": 42,
      "outputs": []
    },
    {
      "cell_type": "code",
      "source": [
        "armstrong()"
      ],
      "metadata": {
        "colab": {
          "base_uri": "https://localhost:8080/"
        },
        "id": "SusUw41mfdAc",
        "outputId": "273610a3-4834-4e25-e2eb-5c89e824c64a"
      },
      "execution_count": 44,
      "outputs": [
        {
          "output_type": "stream",
          "name": "stdout",
          "text": [
            "Enter the Number 371\n",
            "371 is armstrong number\n"
          ]
        }
      ]
    },
    {
      "cell_type": "code",
      "source": [
        "armstrong()"
      ],
      "metadata": {
        "colab": {
          "base_uri": "https://localhost:8080/"
        },
        "id": "z_8HFxrnfgVh",
        "outputId": "bcd70e04-cf34-439a-aab3-b4133f45542b"
      },
      "execution_count": 45,
      "outputs": [
        {
          "output_type": "stream",
          "name": "stdout",
          "text": [
            "Enter the Number 121\n",
            "121 is not a armstrong number\n"
          ]
        }
      ]
    },
    {
      "cell_type": "markdown",
      "source": [
        "05.Write a Python Program to Find Armstrong Number in an Interval?"
      ],
      "metadata": {
        "id": "tcPOjwpOf0sb"
      }
    },
    {
      "cell_type": "code",
      "source": [
        "def armstrong_1(a):\n",
        "  \"\"\"\n",
        "  This function checks for armstrong number\n",
        "  \"\"\"\n",
        "  \n",
        "  num=a\n",
        "  result=0\n",
        "  while(a>0):\n",
        "    result=result+(a%10)**3\n",
        "    a=a//10\n",
        "  \n",
        "  if(result==num):\n",
        "    return 1\n",
        "    \n",
        "  else:\n",
        "     return 0\n",
        "     \n",
        "    \n"
      ],
      "metadata": {
        "id": "4DFZ78LZpDbH"
      },
      "execution_count": 46,
      "outputs": []
    },
    {
      "cell_type": "code",
      "source": [
        "def interval_find(a,b):\n",
        "  \"\"\"\n",
        "  This function prints\n",
        "  armstrong number in given range  \n",
        "  \"\"\"\n",
        "  print(\"Armstrong numbers in range {0},{1}\".format(a,b))\n",
        "  for i in range(a,b):\n",
        "    if armstrong_1(i)==1:\n",
        "      print(i)\n"
      ],
      "metadata": {
        "id": "HgAHruUTfkpu"
      },
      "execution_count": 54,
      "outputs": []
    },
    {
      "cell_type": "code",
      "source": [
        "interval_find(1,1000)"
      ],
      "metadata": {
        "colab": {
          "base_uri": "https://localhost:8080/"
        },
        "id": "tdAuPNP2ov0x",
        "outputId": "e2078b29-7c0f-46c3-b89d-2219c133683b"
      },
      "execution_count": 55,
      "outputs": [
        {
          "output_type": "stream",
          "name": "stdout",
          "text": [
            "Armstrong numbers in range 1,1000\n",
            "1\n",
            "153\n",
            "370\n",
            "371\n",
            "407\n"
          ]
        }
      ]
    },
    {
      "cell_type": "markdown",
      "source": [
        "06.Write a Python Program to Find the Sum of Natural Numbers?"
      ],
      "metadata": {
        "id": "5h87lpYcpUI8"
      }
    },
    {
      "cell_type": "code",
      "source": [
        "def sum_natural():\n",
        "  \"\"\"\n",
        "  This function prints \n",
        "  sum of n natural numbers\n",
        "  \"\"\"\n",
        "  n=int(input(\"Enter the number \"))\n",
        "  return n*(n+1)/2"
      ],
      "metadata": {
        "id": "wPNNW_o2oyzH"
      },
      "execution_count": 56,
      "outputs": []
    },
    {
      "cell_type": "code",
      "source": [
        "sum_natural()"
      ],
      "metadata": {
        "colab": {
          "base_uri": "https://localhost:8080/"
        },
        "id": "_JU_kA7apev3",
        "outputId": "4f302461-bc59-4cec-d980-618271bdbdc4"
      },
      "execution_count": 58,
      "outputs": [
        {
          "name": "stdout",
          "output_type": "stream",
          "text": [
            "Enter the number 5\n"
          ]
        },
        {
          "output_type": "execute_result",
          "data": {
            "text/plain": [
              "15.0"
            ]
          },
          "metadata": {},
          "execution_count": 58
        }
      ]
    }
  ]
}