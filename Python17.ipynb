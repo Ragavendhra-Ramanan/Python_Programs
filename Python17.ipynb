{
  "nbformat": 4,
  "nbformat_minor": 0,
  "metadata": {
    "colab": {
      "provenance": [],
      "authorship_tag": "ABX9TyPX+bBUebyJBzgSlRdmdk7m",
      "include_colab_link": true
    },
    "kernelspec": {
      "name": "python3",
      "display_name": "Python 3"
    },
    "language_info": {
      "name": "python"
    }
  },
  "cells": [
    {
      "cell_type": "markdown",
      "metadata": {
        "id": "view-in-github",
        "colab_type": "text"
      },
      "source": [
        "<a href=\"https://colab.research.google.com/github/Ragavendhra-Ramanan/Python_Programs/blob/main/Python17.ipynb\" target=\"_parent\"><img src=\"https://colab.research.google.com/assets/colab-badge.svg\" alt=\"Open In Colab\"/></a>"
      ]
    },
    {
      "cell_type": "markdown",
      "source": [
        "Question1. Create a function that takes three arguments a, b, c and returns the sum of the\n",
        "numbers that are evenly divided by c from the range a, b inclusive.\n",
        "Examples\n",
        "evenly_divisible(1, 10, 20) ➞ 0\n",
        "# No number between 1 and 10 can be evenly divided by 20.\n",
        "evenly_divisible(1, 10, 2) ➞ 30\n",
        "# 2 + 4 + 6 + 8 + 10 = 30\n",
        "evenly_divisible(1, 10, 3) ➞ 18\n",
        "# 3 + 6 + 9 = 18"
      ],
      "metadata": {
        "id": "G6sNt5YQQ8cO"
      }
    },
    {
      "cell_type": "code",
      "execution_count": 5,
      "metadata": {
        "id": "hsVv97S9Q4oR"
      },
      "outputs": [],
      "source": [
        "def evenly_divisible(a,b,c):\n",
        "  \"\"\"\n",
        "  return sum of numbers evenly divisble by c \n",
        "  in range(a,b)\n",
        "  \"\"\"\n",
        "  total=0\n",
        "  for i in range(a,b+1):\n",
        "    if i%c==0:\n",
        "      total+=i\n",
        "  return total"
      ]
    },
    {
      "cell_type": "code",
      "source": [
        "evenly_divisible(1, 10, 3) "
      ],
      "metadata": {
        "colab": {
          "base_uri": "https://localhost:8080/"
        },
        "id": "oXx_13WaRgJ8",
        "outputId": "1499a5cc-c29b-46b8-c29e-9892dce6fc8a"
      },
      "execution_count": 6,
      "outputs": [
        {
          "output_type": "execute_result",
          "data": {
            "text/plain": [
              "18"
            ]
          },
          "metadata": {},
          "execution_count": 6
        }
      ]
    },
    {
      "cell_type": "markdown",
      "source": [
        "Question2. Create a function that returns True if a given inequality expression is correct and\n",
        "False otherwise.\n",
        "Examples\n",
        "correct_signs(&quot;3 &lt; 7 &lt; 11&quot;) ➞ True\n",
        "correct_signs(&quot;13 &gt; 44 &gt; 33 &gt; 1&quot;) ➞ False\n",
        "correct_signs(&quot;1 &lt; 2 &lt; 6 &lt; 9 &gt; 3&quot;) ➞ True"
      ],
      "metadata": {
        "id": "XARwUpE3RuB9"
      }
    },
    {
      "cell_type": "code",
      "source": [
        "def correct_signs(inequality):\n",
        "  \"\"\"\n",
        "  check whether the inequality is true or false\n",
        "  \"\"\"\n",
        "  numbers=[]\n",
        "  signs=[]\n",
        "  val=0\n",
        "  for i in inequality:\n",
        "      if i.isnumeric():\n",
        "        val=val*10+int(i)\n",
        "      else:\n",
        "        numbers.append(val)\n",
        "        signs.append(i)\n",
        "        val=0\n",
        "  \n",
        "  for i,sign in zip(range(len(numbers)-1),signs):\n",
        "    if sign=='>':\n",
        "      if numbers[i]<=numbers[i+1]:\n",
        "        return False\n",
        "    elif sign =='<':\n",
        "      if numbers[i]>=numbers[i+1]:\n",
        "        return False\n",
        "  return True\n",
        "\n",
        "\n"
      ],
      "metadata": {
        "id": "zo-Xuv5CRkS3"
      },
      "execution_count": 20,
      "outputs": []
    },
    {
      "cell_type": "code",
      "source": [
        "correct_signs(\"3<7<11\")"
      ],
      "metadata": {
        "colab": {
          "base_uri": "https://localhost:8080/"
        },
        "id": "WhHSnQWwYDYV",
        "outputId": "f633e8c9-e6f8-4532-fd9e-8382c034ad1f"
      },
      "execution_count": 21,
      "outputs": [
        {
          "output_type": "execute_result",
          "data": {
            "text/plain": [
              "True"
            ]
          },
          "metadata": {},
          "execution_count": 21
        }
      ]
    },
    {
      "cell_type": "code",
      "source": [
        "correct_signs(\"13>44>33>1\")"
      ],
      "metadata": {
        "colab": {
          "base_uri": "https://localhost:8080/"
        },
        "id": "Rmc6d4NaYNRn",
        "outputId": "d2be3d7e-d4fd-4f15-a6f0-65a033ce8a50"
      },
      "execution_count": 25,
      "outputs": [
        {
          "output_type": "execute_result",
          "data": {
            "text/plain": [
              "False"
            ]
          },
          "metadata": {},
          "execution_count": 25
        }
      ]
    },
    {
      "cell_type": "code",
      "source": [
        "correct_signs(\"1<2<6<9>3\")"
      ],
      "metadata": {
        "colab": {
          "base_uri": "https://localhost:8080/"
        },
        "id": "rFP0GFHqYORa",
        "outputId": "aa586721-9b72-40c7-d249-ed2a05c1ef72"
      },
      "execution_count": 24,
      "outputs": [
        {
          "output_type": "execute_result",
          "data": {
            "text/plain": [
              "True"
            ]
          },
          "metadata": {},
          "execution_count": 24
        }
      ]
    },
    {
      "cell_type": "markdown",
      "source": [
        "Question3. Create a function that replaces all the vowels in a string with a specified character.\n",
        "Examples\n",
        "replace_vowels(&quot;the aardvark&quot;, &quot;#&quot;) ➞ &quot;th# ##rdv#rk&quot;\n",
        "replace_vowels(&quot;minnie mouse&quot;, &quot;?&quot;) ➞ &quot;m?nn?? m??s?&quot;\n"
      ],
      "metadata": {
        "id": "QjTMZHjdTGHQ"
      }
    },
    {
      "cell_type": "code",
      "source": [
        "def replace_vowels(word,sym):\n",
        "  \"\"\"\n",
        "  replace vowels in word by sym\n",
        "  \"\"\"\n",
        "  vowels=['a','e','i','o','u']\n",
        "  modified=\"\"\n",
        "  for i in range(len(word)):\n",
        "    if word[i] in vowels:\n",
        "      modified+=sym\n",
        "    else:\n",
        "      modified+=word[i]\n",
        "  return modified\n",
        "    \n",
        "    \n"
      ],
      "metadata": {
        "id": "on8vYT2gTD0z"
      },
      "execution_count": 16,
      "outputs": []
    },
    {
      "cell_type": "code",
      "source": [
        "replace_vowels(\"minnie mouse\", \"?\")"
      ],
      "metadata": {
        "colab": {
          "base_uri": "https://localhost:8080/",
          "height": 35
        },
        "id": "X7_mE5xeUjCR",
        "outputId": "9a0799c0-43ff-46e5-8549-b0179e4be385"
      },
      "execution_count": 17,
      "outputs": [
        {
          "output_type": "execute_result",
          "data": {
            "text/plain": [
              "'m?nn?? m??s?'"
            ],
            "application/vnd.google.colaboratory.intrinsic+json": {
              "type": "string"
            }
          },
          "metadata": {},
          "execution_count": 17
        }
      ]
    },
    {
      "cell_type": "markdown",
      "source": [
        "Question4. Write a function that calculates the factorial of a number recursively.\n",
        "Examples\n",
        "factorial(5) ➞ 120\n",
        "factorial(3) ➞ 6\n",
        "factorial(1) ➞ 1\n",
        "factorial(0) ➞ 1"
      ],
      "metadata": {
        "id": "_s5rtLANSAhi"
      }
    },
    {
      "cell_type": "code",
      "source": [
        "def factorial(a):\n",
        "  \"\"\"\n",
        "  This function computes factorial of a number\n",
        "  \"\"\"\n",
        "  if (a==0 or a==1):\n",
        "    return 1\n",
        "  return a*factorial(a-1)"
      ],
      "metadata": {
        "id": "LL3u0pM0SA-d"
      },
      "execution_count": 9,
      "outputs": []
    },
    {
      "cell_type": "code",
      "source": [
        "factorial(5)"
      ],
      "metadata": {
        "colab": {
          "base_uri": "https://localhost:8080/"
        },
        "id": "RdzWVrQKSSXd",
        "outputId": "94eebf23-7067-4a5a-e741-0471b6029683"
      },
      "execution_count": 10,
      "outputs": [
        {
          "output_type": "execute_result",
          "data": {
            "text/plain": [
              "120"
            ]
          },
          "metadata": {},
          "execution_count": 10
        }
      ]
    },
    {
      "cell_type": "markdown",
      "source": [
        "Question 5\n",
        "Hamming distance is the number of characters that differ between two strings.\n",
        "To illustrate:\n",
        "String1: &quot;abcbba&quot;\n",
        "String2: &quot;abcbda&quot;\n",
        "Hamming Distance: 1 - &quot;b&quot; vs. &quot;d&quot; is the only difference.\n",
        "Create a function that computes the hamming distance between two strings.\n",
        "Examples\n",
        "hamming_distance(&quot;abcde&quot;, &quot;bcdef&quot;) ➞ 5\n",
        "hamming_distance(&quot;abcde&quot;, &quot;abcde&quot;) ➞ 0\n",
        "hamming_distance(&quot;strong&quot;, &quot;strung&quot;) ➞ 1"
      ],
      "metadata": {
        "id": "ODhyhg43Sind"
      }
    },
    {
      "cell_type": "code",
      "source": [
        "def hamming_distance(a,b):\n",
        "  \"\"\"\n",
        "  return total character difference in strings\n",
        "  \"\"\"\n",
        "  count=0\n",
        "  for i,j in zip(a,b):\n",
        "    if i!=j:\n",
        "      count+=1\n",
        "  return count"
      ],
      "metadata": {
        "id": "F_YIFO_SSUmv"
      },
      "execution_count": 11,
      "outputs": []
    },
    {
      "cell_type": "code",
      "source": [
        "hamming_distance(\"abcde\", \"bcdef\") "
      ],
      "metadata": {
        "colab": {
          "base_uri": "https://localhost:8080/"
        },
        "id": "IcrRxHgjS8OG",
        "outputId": "f6ee14f5-106e-4b2a-a0c1-337d38835320"
      },
      "execution_count": 12,
      "outputs": [
        {
          "output_type": "execute_result",
          "data": {
            "text/plain": [
              "5"
            ]
          },
          "metadata": {},
          "execution_count": 12
        }
      ]
    },
    {
      "cell_type": "code",
      "source": [
        "hamming_distance(\"abcde\", \"abcde\") "
      ],
      "metadata": {
        "colab": {
          "base_uri": "https://localhost:8080/"
        },
        "id": "6NDGBVGSTAV4",
        "outputId": "ed902077-0455-44fa-8427-ffd7a4acf31b"
      },
      "execution_count": 13,
      "outputs": [
        {
          "output_type": "execute_result",
          "data": {
            "text/plain": [
              "0"
            ]
          },
          "metadata": {},
          "execution_count": 13
        }
      ]
    }
  ]
}