{
  "nbformat": 4,
  "nbformat_minor": 0,
  "metadata": {
    "colab": {
      "name": "Python_program08.ipynb",
      "provenance": [],
      "authorship_tag": "ABX9TyNUlV6DFnbqHY2JnHvpDv2P",
      "include_colab_link": true
    },
    "kernelspec": {
      "name": "python3",
      "display_name": "Python 3"
    },
    "language_info": {
      "name": "python"
    }
  },
  "cells": [
    {
      "cell_type": "markdown",
      "metadata": {
        "id": "view-in-github",
        "colab_type": "text"
      },
      "source": [
        "<a href=\"https://colab.research.google.com/github/Ragavendhra-Ramanan/Python_Programs/blob/main/Python_program08.ipynb\" target=\"_parent\"><img src=\"https://colab.research.google.com/assets/colab-badge.svg\" alt=\"Open In Colab\"/></a>"
      ]
    },
    {
      "cell_type": "markdown",
      "source": [
        "01.1. Write a Python Program to Add Two Matrices?"
      ],
      "metadata": {
        "id": "1TZv5AdbeiGK"
      }
    },
    {
      "cell_type": "code",
      "execution_count": 3,
      "metadata": {
        "id": "mXrutgxaefNS"
      },
      "outputs": [],
      "source": [
        "def add(A,B):\n",
        "  \"\"\"\n",
        "  This function add 2 matrices\n",
        "  \"\"\"\n",
        " \n",
        "  C=[]\n",
        "  for i in range(len(A)):\n",
        "    ans=[]\n",
        "    for j in range(len(A[0])):\n",
        "      ans.append(A[i][j]+B[i][j])\n",
        "    C.append(ans)\n",
        "  return C"
      ]
    },
    {
      "cell_type": "code",
      "source": [
        "A=[[1,2,3],\n",
        "   [4,5,6]]\n",
        "  \n",
        "B=[[3,4,5],\n",
        "   [3,8,10]]\n",
        "\n",
        "add(A,B)"
      ],
      "metadata": {
        "colab": {
          "base_uri": "https://localhost:8080/"
        },
        "id": "Xp2O2BdGf0jw",
        "outputId": "7e6c73ed-abcc-423e-e5b9-57db73417178"
      },
      "execution_count": 4,
      "outputs": [
        {
          "output_type": "execute_result",
          "data": {
            "text/plain": [
              "[[4, 6, 8], [7, 13, 16]]"
            ]
          },
          "metadata": {},
          "execution_count": 4
        }
      ]
    },
    {
      "cell_type": "markdown",
      "source": [
        "02.Write a Python Program to Multiply Two Matrices?"
      ],
      "metadata": {
        "id": "J5D_YosBgiuu"
      }
    },
    {
      "cell_type": "code",
      "source": [
        "def multiply(A,B):\n",
        "  \"\"\"\n",
        "  This function multiply 2 matrices\n",
        "  \"\"\"\n",
        " \n",
        "  C=[]\n",
        "  for i in range(len(A)):\n",
        "    ans=[]\n",
        "    for j in range(len(B)):\n",
        "      total=0\n",
        "      for k in range(len(A[0])):\n",
        "        total+=A[i][k]*B[k][j]\n",
        "      ans.append(total)\n",
        "    C.append(ans)\n",
        "  return C"
      ],
      "metadata": {
        "id": "GPXux6yAgGaZ"
      },
      "execution_count": 8,
      "outputs": []
    },
    {
      "cell_type": "code",
      "source": [
        "A=[[1,2,3],\n",
        "   [4,5,6]]\n",
        "  \n",
        "B=[[3,4,5],\n",
        "   [3,8,10],\n",
        "   [9,10,11]]\n"
      ],
      "metadata": {
        "id": "vAjZIvNjiGIj"
      },
      "execution_count": 10,
      "outputs": []
    },
    {
      "cell_type": "code",
      "source": [
        "multiply(A,B)"
      ],
      "metadata": {
        "colab": {
          "base_uri": "https://localhost:8080/"
        },
        "id": "iw9w4mnJhEEa",
        "outputId": "111183a2-c0c7-4375-b589-60044d6ed500"
      },
      "execution_count": 11,
      "outputs": [
        {
          "output_type": "execute_result",
          "data": {
            "text/plain": [
              "[[36, 50, 58], [81, 116, 136]]"
            ]
          },
          "metadata": {},
          "execution_count": 11
        }
      ]
    },
    {
      "cell_type": "markdown",
      "source": [
        "03.Write a Python Program to Transpose a Matrix?"
      ],
      "metadata": {
        "id": "5JhpvDWwiXrP"
      }
    },
    {
      "cell_type": "code",
      "source": [
        "def transpose(A):\n",
        "  \"\"\"\n",
        "  This function transposes A\n",
        "  \"\"\"\n",
        " \n",
        "  C=[]\n",
        "  for i in range(len(A[0])):\n",
        "    ans=[]\n",
        "    for j in range(len(A)):\n",
        "      ans.append(A[j][i])\n",
        "    C.append(ans)\n",
        "  return C"
      ],
      "metadata": {
        "id": "dmu1RF0thHty"
      },
      "execution_count": 14,
      "outputs": []
    },
    {
      "cell_type": "code",
      "source": [
        "A=[[1,2,3],[4,5,6]]\n",
        "transpose(A)"
      ],
      "metadata": {
        "colab": {
          "base_uri": "https://localhost:8080/"
        },
        "id": "To5G2zUritGj",
        "outputId": "2e70160e-cf32-4f03-8137-19eb57857964"
      },
      "execution_count": 15,
      "outputs": [
        {
          "output_type": "execute_result",
          "data": {
            "text/plain": [
              "[[1, 4], [2, 5], [3, 6]]"
            ]
          },
          "metadata": {},
          "execution_count": 15
        }
      ]
    },
    {
      "cell_type": "markdown",
      "source": [
        "04.Write a Python Program to Sort Words in Alphabetic Order?"
      ],
      "metadata": {
        "id": "viFd9wzXjiLw"
      }
    },
    {
      "cell_type": "code",
      "source": [
        "def sorting():\n",
        "  \"\"\"\n",
        "  This function sorts in alphabetical order\n",
        "  \"\"\"\n",
        "  a=input(\"Enter the words \")\n",
        "  a=a.lower()\n",
        "  r=a.split()\n",
        "  r.sort()\n",
        "  return r"
      ],
      "metadata": {
        "id": "mkk08TUniw5_"
      },
      "execution_count": 20,
      "outputs": []
    },
    {
      "cell_type": "code",
      "source": [
        "sorting()"
      ],
      "metadata": {
        "colab": {
          "base_uri": "https://localhost:8080/"
        },
        "id": "ntjDj6UDkHeA",
        "outputId": "7d199093-5aa1-4e4a-a8ba-956c9eda3f03"
      },
      "execution_count": 21,
      "outputs": [
        {
          "name": "stdout",
          "output_type": "stream",
          "text": [
            "Enter the words I am playing cricket\n"
          ]
        },
        {
          "output_type": "execute_result",
          "data": {
            "text/plain": [
              "['am', 'cricket', 'i', 'playing']"
            ]
          },
          "metadata": {},
          "execution_count": 21
        }
      ]
    },
    {
      "cell_type": "markdown",
      "source": [
        "05.Write a Python Program to Remove Punctuation From a String?"
      ],
      "metadata": {
        "id": "wG_nx5-FkY3D"
      }
    },
    {
      "cell_type": "code",
      "source": [
        "import re\n",
        "\n",
        "a=input(\"Enter string with punctuation \")\n",
        "\n",
        "print(re.sub(r'[^\\w\\s]', ' ',a))"
      ],
      "metadata": {
        "colab": {
          "base_uri": "https://localhost:8080/"
        },
        "id": "pmrxOb1ykIgH",
        "outputId": "c2b5eea3-c37f-4d4e-d076-90687a7ad901"
      },
      "execution_count": 24,
      "outputs": [
        {
          "output_type": "stream",
          "name": "stdout",
          "text": [
            "Enter string with punctuation \"I am not ,playing :sitting .\"\n",
            " I am not  playing  sitting   \n"
          ]
        }
      ]
    }
  ]
}