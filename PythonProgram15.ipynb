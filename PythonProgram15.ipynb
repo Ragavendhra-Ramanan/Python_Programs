{
  "nbformat": 4,
  "nbformat_minor": 0,
  "metadata": {
    "colab": {
      "provenance": [],
      "authorship_tag": "ABX9TyN27aUC/zzXHBbYCMxsTEES",
      "include_colab_link": true
    },
    "kernelspec": {
      "name": "python3",
      "display_name": "Python 3"
    },
    "language_info": {
      "name": "python"
    }
  },
  "cells": [
    {
      "cell_type": "markdown",
      "metadata": {
        "id": "view-in-github",
        "colab_type": "text"
      },
      "source": [
        "<a href=\"https://colab.research.google.com/github/Ragavendhra-Ramanan/Python_Programs/blob/main/PythonProgram15.ipynb\" target=\"_parent\"><img src=\"https://colab.research.google.com/assets/colab-badge.svg\" alt=\"Open In Colab\"/></a>"
      ]
    },
    {
      "cell_type": "markdown",
      "source": [
        "Question 1:\n",
        "Please write a program using generator to print the numbers which can be divisible by 5 and\n",
        "7 between 0 and n in comma separated form while n is input by console.\n",
        "Example:\n",
        "If the following n is given as input to the program:\n",
        "100\n",
        "Then, the output of the program should be:\n",
        "0,35,70"
      ],
      "metadata": {
        "id": "21x8n1ZdYr0_"
      }
    },
    {
      "cell_type": "code",
      "source": [
        "def divisors(n):\n",
        "  \"\"\"\n",
        "  Numbers <=n which are divisible by 7 and 5\n",
        "  \"\"\"\n",
        "  for i in range(n+1):\n",
        "    if (i%5 ==0) and (i%7==0):\n",
        "      yield i"
      ],
      "metadata": {
        "id": "ZUa4Uw1_YrbT"
      },
      "execution_count": 5,
      "outputs": []
    },
    {
      "cell_type": "code",
      "execution_count": 6,
      "metadata": {
        "colab": {
          "base_uri": "https://localhost:8080/"
        },
        "id": "Fzh5Nv5pYoVO",
        "outputId": "a224ab70-28b8-4a4d-80bb-7b32b82ec1dd"
      },
      "outputs": [
        {
          "output_type": "stream",
          "name": "stdout",
          "text": [
            "0,35,70,"
          ]
        }
      ],
      "source": [
        "ans=divisors(100)\n",
        "for i in ans:\n",
        "  print(i,end=\",\")"
      ]
    },
    {
      "cell_type": "markdown",
      "source": [
        "Question 2:\n",
        "Please write a program using generator to print the even numbers between 0 and n in comma\n",
        "separated form while n is input by console.\n",
        "Example:\n",
        "If the following n is given as input to the program:\n",
        "10\n",
        "Then, the output of the program should be:\n",
        "0,2,4,6,8,10"
      ],
      "metadata": {
        "id": "qSJU-MoKZhIH"
      }
    },
    {
      "cell_type": "code",
      "source": [
        "def even(n):\n",
        "  \"\"\"\n",
        "  Numbers <=n which are even numbers\n",
        "  \"\"\"\n",
        "  for i in range(n+1):\n",
        "    if i%2==0:\n",
        "      yield i"
      ],
      "metadata": {
        "id": "nQDPer07Zg1y"
      },
      "execution_count": 7,
      "outputs": []
    },
    {
      "cell_type": "code",
      "source": [
        "result=even(10)\n",
        "for i in result:\n",
        "  print(i,end=\",\")"
      ],
      "metadata": {
        "colab": {
          "base_uri": "https://localhost:8080/"
        },
        "id": "w8MJPa-0Zd-q",
        "outputId": "a15c5683-bfb2-47c7-d4d4-918f0e2dac84"
      },
      "execution_count": 8,
      "outputs": [
        {
          "output_type": "stream",
          "name": "stdout",
          "text": [
            "0,2,4,6,8,10,"
          ]
        }
      ]
    },
    {
      "cell_type": "markdown",
      "source": [
        "Question 3:\n",
        "The Fibonacci Sequence is computed based on the following formula:\n",
        "f(n)=0 if n=0\n",
        "f(n)=1 if n=1\n",
        "f(n)=f(n-1)+f(n-2) if n&gt;1\n",
        "Please write a program using list comprehension to print the Fibonacci Sequence in comma\n",
        "separated form with a given n input by console.\n",
        "Example:\n",
        "If the following n is given as input to the program:\n",
        "7\n",
        "\n",
        "Then, the output of the program should be:\n",
        "0,1,1,2,3,5,8,13"
      ],
      "metadata": {
        "id": "P4cqnowGZ4gy"
      }
    },
    {
      "cell_type": "code",
      "source": [
        "def fib(n):\n",
        "  \"\"\"\n",
        "  Calculate fibonacci\n",
        "  \"\"\"\n",
        "  if n==0:\n",
        "    return 0\n",
        "  if n==1:\n",
        "    return 1\n",
        "  return fib(n-1)+fib(n-2)"
      ],
      "metadata": {
        "id": "Aj3VQx4gZcpx"
      },
      "execution_count": 9,
      "outputs": []
    },
    {
      "cell_type": "code",
      "source": [
        "n=7\n",
        "ans=[(lambda x:fib(x)) (x) for x in range(n+1)]"
      ],
      "metadata": {
        "id": "Rg3iStVBbb5q"
      },
      "execution_count": 16,
      "outputs": []
    },
    {
      "cell_type": "code",
      "source": [
        "ans"
      ],
      "metadata": {
        "colab": {
          "base_uri": "https://localhost:8080/"
        },
        "id": "oePyiFK6boGv",
        "outputId": "34557c3a-168c-4709-c2ea-31513c945069"
      },
      "execution_count": 17,
      "outputs": [
        {
          "output_type": "execute_result",
          "data": {
            "text/plain": [
              "[0, 1, 1, 2, 3, 5, 8, 13]"
            ]
          },
          "metadata": {},
          "execution_count": 17
        }
      ]
    },
    {
      "cell_type": "markdown",
      "source": [
        "Question 4:\n",
        "Assuming that we have some email addresses in the &quot;username@companyname.com&quot; format,\n",
        "please write program to print the user name of a given email address. Both user names and\n",
        "company names are composed of letters only.\n",
        "Example:\n",
        "If the following email address is given as input to the program:\n",
        "john@google.com\n",
        "Then, the output of the program should be:\n",
        "john"
      ],
      "metadata": {
        "id": "hvMCx7yKcSDT"
      }
    },
    {
      "cell_type": "code",
      "source": [
        "def get_user(mail):\n",
        "\n",
        "  \"\"\"\n",
        "  Print user name in mail\n",
        "  \"\"\"\n",
        "  ans=mail.split(\"@\")[0]\n",
        "  t=all(i.isalpha() for i in ans)\n",
        "  if t:\n",
        "    return ans\n",
        "  else:\n",
        "    return \"No user name found\""
      ],
      "metadata": {
        "id": "XzDj-_Szbo4m"
      },
      "execution_count": 26,
      "outputs": []
    },
    {
      "cell_type": "code",
      "source": [
        "get_user(\"john@google.com\")"
      ],
      "metadata": {
        "colab": {
          "base_uri": "https://localhost:8080/",
          "height": 35
        },
        "id": "Z3WscpkHdycS",
        "outputId": "ec6c779d-314b-4cdd-a1ac-27827302c882"
      },
      "execution_count": 27,
      "outputs": [
        {
          "output_type": "execute_result",
          "data": {
            "text/plain": [
              "'john'"
            ],
            "application/vnd.google.colaboratory.intrinsic+json": {
              "type": "string"
            }
          },
          "metadata": {},
          "execution_count": 27
        }
      ]
    },
    {
      "cell_type": "code",
      "source": [
        "get_user(\"john1@google.com\")"
      ],
      "metadata": {
        "colab": {
          "base_uri": "https://localhost:8080/",
          "height": 35
        },
        "id": "ljC76bJbd2Xr",
        "outputId": "ff74ab53-3645-4698-f425-b33ce6665807"
      },
      "execution_count": 28,
      "outputs": [
        {
          "output_type": "execute_result",
          "data": {
            "text/plain": [
              "'No user name found'"
            ],
            "application/vnd.google.colaboratory.intrinsic+json": {
              "type": "string"
            }
          },
          "metadata": {},
          "execution_count": 28
        }
      ]
    },
    {
      "cell_type": "markdown",
      "source": [
        "Question 5:\n",
        "Define a class named Shape and its subclass Square. The Square class has an init function\n",
        "which takes a length as argument. Both classes have a area function which can print the area\n",
        "of the shape where Shape&#39;s area is 0 by default."
      ],
      "metadata": {
        "id": "IkJlKtkqenri"
      }
    },
    {
      "cell_type": "code",
      "source": [
        "class Shape:\n",
        "  def __init__(self):\n",
        "    self.areaval=0\n",
        "  def area(self):\n",
        "    return self.areaval"
      ],
      "metadata": {
        "id": "SL5q287gemvG"
      },
      "execution_count": 42,
      "outputs": []
    },
    {
      "cell_type": "code",
      "source": [
        "class Square(Shape):\n",
        "  def __init__(self,l):\n",
        "    self.length=l\n",
        "  \n",
        "  def area(self):\n",
        "    return self.length*self.length"
      ],
      "metadata": {
        "id": "5NEneF8IefQT"
      },
      "execution_count": 43,
      "outputs": []
    },
    {
      "cell_type": "code",
      "source": [
        "a=Square(10)\n",
        "a.area()"
      ],
      "metadata": {
        "colab": {
          "base_uri": "https://localhost:8080/"
        },
        "id": "LE-g_2D6e1pW",
        "outputId": "32c786e9-8efe-4a0d-f217-e59e83e91ff2"
      },
      "execution_count": 44,
      "outputs": [
        {
          "output_type": "execute_result",
          "data": {
            "text/plain": [
              "100"
            ]
          },
          "metadata": {},
          "execution_count": 44
        }
      ]
    },
    {
      "cell_type": "code",
      "source": [
        "b=Shape()\n",
        "b.area()"
      ],
      "metadata": {
        "colab": {
          "base_uri": "https://localhost:8080/"
        },
        "id": "xtO3eErYg7LJ",
        "outputId": "ea59aa2c-a6cb-4883-e127-97fa22fa65c2"
      },
      "execution_count": 45,
      "outputs": [
        {
          "output_type": "execute_result",
          "data": {
            "text/plain": [
              "0"
            ]
          },
          "metadata": {},
          "execution_count": 45
        }
      ]
    }
  ]
}